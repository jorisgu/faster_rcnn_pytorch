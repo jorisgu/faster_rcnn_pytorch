{
 "cells": [
  {
   "cell_type": "code",
   "execution_count": 30,
   "metadata": {
    "collapsed": true
   },
   "outputs": [],
   "source": [
    "import operator"
   ]
  },
  {
   "cell_type": "code",
   "execution_count": 2,
   "metadata": {
    "collapsed": false
   },
   "outputs": [
    {
     "name": "stdout",
     "output_type": "stream",
     "text": [
      "Remove empty annotations:  Done. [ 0 removed]\n",
      "sunrgbd_train_rgb_i_100_8bits gt roidb reloaded from /c16/THESE.JORIS/datasets/SUNRGBD_pv/faster_rcnn/cache/sunrgbd_train_rgb_i_100_8bits_gt_roidb.pkl\n"
     ]
    }
   ],
   "source": [
    "import os\n",
    "import torch\n",
    "import numpy as np\n",
    "from datetime import datetime\n",
    "\n",
    "from faster_rcnn import network\n",
    "from faster_rcnn.faster_rcnn import FasterRCNN, RPN\n",
    "from faster_rcnn.utils.timer import Timer\n",
    "\n",
    "import faster_rcnn.roi_data_layer.roidb as rdl_roidb\n",
    "from faster_rcnn.roi_data_layer.layer import RoIDataLayer\n",
    "from faster_rcnn.datasets.factory import get_imdb\n",
    "from faster_rcnn.fast_rcnn.config import cfg, cfg_from_file\n",
    "\n",
    "try:\n",
    "    from termcolor import cprint\n",
    "except ImportError:\n",
    "    cprint = None\n",
    "\n",
    "try:\n",
    "    from pycrayon import CrayonClient\n",
    "except ImportError:\n",
    "    1\n",
    "CrayonClient = None\n",
    "\n",
    "\n",
    "def log_print(text, color=None, on_color=None, attrs=None):\n",
    "    if cprint is not None:\n",
    "        cprint(text, color=color, on_color=on_color, attrs=attrs)\n",
    "    else:\n",
    "        print(text)\n",
    "\n",
    "\n",
    "\n",
    "# hyper-parameters\n",
    "# ------------\n",
    "\n",
    "pytorchpath = os.environ['PWD']+'/'\n",
    "# print pytorchpath\n",
    "# exit()\n",
    "# pytorchpath = '/data02/jguerry/jg_pyt/'\n",
    "pytorchpath = '/home/jguerry/workspace/jg_dl/jg_pyt/'\n",
    "\n",
    "\n",
    "imdb_name = 'sunrgbd_train_rgb_i_100_8bits'\n",
    "output_dir = pytorchpath+'models/'+imdb_name+'_noChairs/'\n",
    "\n",
    "cfg_file = pytorchpath+'experiments/cfgs/faster_rcnn_end2end_sunrgbd.yml'\n",
    "pretrained_model = pytorchpath+'data/pretrained_model/VGG_imagenet.npy'\n",
    "start_step = 0\n",
    "end_step = 100000\n",
    "lr_decay_steps = {60000, 80000}\n",
    "lr_decay = 1./10\n",
    "\n",
    "rand_seed = 1024\n",
    "_DEBUG = True\n",
    "use_tensorboard = True\n",
    "remove_all_log = False   # remove all historical experiments in TensorBoard\n",
    "exp_name = None # the previous experiment name in TensorBoard\n",
    "\n",
    "# ------------\n",
    "\n",
    "if rand_seed is not None:\n",
    "    np.random.seed(rand_seed)\n",
    "\n",
    "# load config\n",
    "cfg_from_file(cfg_file)\n",
    "lr = cfg.TRAIN.LEARNING_RATE\n",
    "momentum = cfg.TRAIN.MOMENTUM\n",
    "weight_decay = cfg.TRAIN.WEIGHT_DECAY\n",
    "disp_interval = cfg.TRAIN.DISPLAY\n",
    "log_interval = cfg.TRAIN.LOG_IMAGE_ITERS\n",
    "\n",
    "# load data\n",
    "imdb = get_imdb(imdb_name)\n",
    "rdl_roidb.prepare_roidb(imdb)\n",
    "roidb = imdb.roidb\n",
    "data_layer = RoIDataLayer(roidb, imdb.num_classes)\n",
    "\n",
    "# load net\n",
    "net = FasterRCNN(classes=imdb.classes, debug=_DEBUG)\n",
    "network.weights_normal_init(net, dev=0.01)\n",
    "network.load_pretrained_npy(net, pretrained_model)\n",
    "# model_file = '/media/longc/Data/models/VGGnet_fast_rcnn_iter_70000.h5'\n",
    "# model_file = 'models/saved_model3/faster_rcnn_60000.h5'\n",
    "# network.load_net(model_file, net)\n",
    "# exp_name = 'vgg16_02-19_13-24'\n",
    "# start_step = 60001\n",
    "# lr /= 10.\n",
    "# network.weights_normal_init([net.bbox_fc, net.score_fc, net.fc6, net.fc7], dev=0.01)\n",
    "\n",
    "net.cuda()\n",
    "net.train()\n",
    "\n",
    "params = list(net.parameters())\n",
    "# optimizer = torch.optim.Adam(params[-8:], lr=lr)\n",
    "optimizer = torch.optim.SGD(params[8:], lr=lr, momentum=momentum, weight_decay=weight_decay)\n",
    "\n",
    "if not os.path.exists(output_dir):\n",
    "    os.mkdir(output_dir)\n",
    "\n",
    "# tensorboad\n",
    "use_tensorboard = use_tensorboard and CrayonClient is not None\n",
    "if use_tensorboard:\n",
    "    cc = CrayonClient(hostname='127.0.0.1')\n",
    "    if remove_all_log:\n",
    "        cc.remove_all_experiments()\n",
    "    if exp_name is None:\n",
    "        exp_name = datetime.now().strftime('vgg16_%m-%d_%H-%M')\n",
    "        exp = cc.create_experiment(exp_name)\n",
    "    else:\n",
    "        exp = cc.open_experiment(exp_name)\n",
    "\n",
    "# training\n",
    "train_loss = 0\n",
    "tp, tf, fg, bg = 0., 0., 0, 0\n",
    "step_cnt = 0\n",
    "re_cnt = False\n",
    "t = Timer()\n",
    "t.tic()"
   ]
  },
  {
   "cell_type": "code",
   "execution_count": 14,
   "metadata": {
    "collapsed": true
   },
   "outputs": [],
   "source": [
    "# get one batch\n",
    "blobs = data_layer.forward()\n",
    "im_data = blobs['data']\n",
    "im_info = blobs['im_info']\n",
    "gt_boxes = blobs['gt_boxes']\n",
    "gt_ishard = blobs['gt_ishard']\n",
    "dontcare_areas = blobs['dontcare_areas']\n",
    "dontcare_areas = None"
   ]
  },
  {
   "cell_type": "code",
   "execution_count": 38,
   "metadata": {
    "collapsed": false
   },
   "outputs": [],
   "source": [
    "array = np.array([4,2,7,1])\n",
    "temp = array.argsort()\n",
    "ranks = np.empty(len(array), int)\n",
    "ranks[temp] = np.arange(len(array))"
   ]
  },
  {
   "cell_type": "code",
   "execution_count": 39,
   "metadata": {
    "collapsed": false
   },
   "outputs": [
    {
     "data": {
      "text/plain": [
       "array([2, 1, 3, 0])"
      ]
     },
     "execution_count": 39,
     "metadata": {},
     "output_type": "execute_result"
    }
   ],
   "source": [
    "ranks"
   ]
  },
  {
   "cell_type": "code",
   "execution_count": 43,
   "metadata": {
    "collapsed": false,
    "scrolled": true
   },
   "outputs": [
    {
     "data": {
      "text/plain": [
       "30"
      ]
     },
     "execution_count": 43,
     "metadata": {},
     "output_type": "execute_result"
    }
   ],
   "source": [
    "len(sorted_x)"
   ]
  },
  {
   "cell_type": "code",
   "execution_count": null,
   "metadata": {
    "collapsed": true
   },
   "outputs": [],
   "source": []
  },
  {
   "cell_type": "code",
   "execution_count": 87,
   "metadata": {
    "collapsed": false
   },
   "outputs": [],
   "source": [
    "t = Timer()\n",
    "t.tic()\n",
    "\n",
    "myClassesDict = {}\n",
    "for i in range(500):\n",
    "    # get one batch\n",
    "    blobs = data_layer.forward()\n",
    "    im_data = blobs['data']\n",
    "    im_info = blobs['im_info']\n",
    "    gt_boxes = blobs['gt_boxes']\n",
    "    gt_ishard = blobs['gt_ishard']\n",
    "    dontcare_areas = blobs['dontcare_areas']\n",
    "    dontcare_areas = None\n",
    "    \n",
    "    indices = []\n",
    "\n",
    "    \n",
    "    for id_gt,gt in enumerate(gt_boxes):\n",
    "        ranks = {key: rank for rank, key in enumerate(sorted(myClassesDict, key=myClassesDict.get, reverse=True), 1)}    \n",
    "        cls=int(gt[4])\n",
    "        if imdb._classes[cls] not in myClassesDict.keys():\n",
    "            indices.append(id_gt)\n",
    "#             myClassesDict[imdb._classes[cls]] = myClassesDict.get(imdb._classes[cls], 0) + 1\n",
    "        elif ranks[imdb._classes[cls]]>0.75*len(myClassesDict):\n",
    "            indices.append(id_gt)\n",
    "#             myClassesDict[imdb._classes[cls]] = myClassesDict.get(imdb._classes[cls], 0) + 1\n",
    "        else:\n",
    "            pass\n",
    "        \n",
    "    gt_boxes = gt_boxes[indices,:]\n",
    "    gt_ishard = gt_ishard[indices]\n",
    "    \n",
    "    for id_gt,gt in enumerate(gt_boxes):\n",
    "        cls=int(gt[4])\n",
    "        myClassesDict[imdb._classes[cls]] = myClassesDict.get(imdb._classes[cls], 0) + 1\n",
    "       \n",
    "\n",
    "        \n",
    "    myClasses_sorted = sorted(myClassesDict.items(), key=operator.itemgetter(1),reverse=True)\n",
    "            \n"
   ]
  },
  {
   "cell_type": "code",
   "execution_count": 88,
   "metadata": {
    "collapsed": false
   },
   "outputs": [
    {
     "data": {
      "text/plain": [
       "[('pillow', 21),\n",
       " ('picture', 20),\n",
       " ('table', 19),\n",
       " ('bed', 19),\n",
       " ('desk', 18),\n",
       " ('whiteboard', 17),\n",
       " ('night_stand', 17),\n",
       " ('person', 17),\n",
       " ('lamp', 17),\n",
       " ('curtain', 17),\n",
       " ('dresser', 17),\n",
       " ('door', 17),\n",
       " ('fridge', 17),\n",
       " ('cabinet', 17),\n",
       " ('sink', 17),\n",
       " ('bookshelf', 17),\n",
       " ('box', 17),\n",
       " ('towel', 17),\n",
       " ('sofa', 17),\n",
       " ('counter', 17),\n",
       " ('books', 17),\n",
       " ('toilet', 16),\n",
       " ('mirror', 16),\n",
       " ('tv', 16),\n",
       " ('blinds', 16),\n",
       " ('bag', 16),\n",
       " ('paper', 15),\n",
       " ('bathtub', 12),\n",
       " ('window', 7)]"
      ]
     },
     "execution_count": 88,
     "metadata": {},
     "output_type": "execute_result"
    }
   ],
   "source": [
    "myClasses_sorted"
   ]
  }
 ],
 "metadata": {
  "anaconda-cloud": {},
  "kernelspec": {
   "display_name": "Python [conda env:pyt3]",
   "language": "python",
   "name": "conda-env-pyt3-py"
  },
  "language_info": {
   "codemirror_mode": {
    "name": "ipython",
    "version": 2
   },
   "file_extension": ".py",
   "mimetype": "text/x-python",
   "name": "python",
   "nbconvert_exporter": "python",
   "pygments_lexer": "ipython2",
   "version": "2.7.12"
  }
 },
 "nbformat": 4,
 "nbformat_minor": 1
}

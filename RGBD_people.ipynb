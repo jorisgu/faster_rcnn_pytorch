{
 "cells": [
  {
   "cell_type": "markdown",
   "metadata": {},
   "source": [
    "# RGBD People dataset conversion toolkit"
   ]
  },
  {
   "cell_type": "code",
   "execution_count": 1,
   "metadata": {
    "collapsed": true
   },
   "outputs": [],
   "source": [
    "import glob\n",
    "import os\n",
    "import numpy as np"
   ]
  },
  {
   "cell_type": "code",
   "execution_count": 2,
   "metadata": {
    "collapsed": true
   },
   "outputs": [],
   "source": [
    "pathBasic='/home/jguerry/workspace/datasets/RGBD_people/data/track_annotations'\n",
    "allTrack=sorted(glob.glob(pathBasic+\"/Track*\"))"
   ]
  },
  {
   "cell_type": "code",
   "execution_count": 33,
   "metadata": {
    "collapsed": false
   },
   "outputs": [
    {
     "data": {
      "text/plain": [
       "['/home/jguerry/workspace/datasets/RGBD_people/data/track_annotations/Track_29.txt',\n",
       " '/home/jguerry/workspace/datasets/RGBD_people/data/track_annotations/Track_30.txt']"
      ]
     },
     "execution_count": 33,
     "metadata": {},
     "output_type": "execute_result"
    }
   ],
   "source": [
    "allTrack[-6:-4]"
   ]
  },
  {
   "cell_type": "code",
   "execution_count": 38,
   "metadata": {
    "collapsed": false
   },
   "outputs": [
    {
     "name": "stdout",
     "output_type": "stream",
     "text": [
      "08 ['seq0_0963_0', '1299583564.48', '185', '249', '210', '105', '187', '239', '197', '98', '1'] ['seq0', '0963', '0']\n",
      "10 ['seq0_0963_0', '1299583564.48', '207', '259', '187', '93', '211', '260', '174', '87', '2'] ['seq0', '0963', '0']\n",
      "23 ['seq0_0963_0', '1299583564.48', '200', '77', '174', '87', '214', '106', '148', '74', '2'] ['seq0', '0963', '0']\n",
      "24 ['seq0_0963_0', '1299583564.48', '10', '-6', '445', '222', '29', '-32', '409', '204', '2'] ['seq0', '0963', '0']\n",
      "27 ['seq0_0963_2', '1299583564.56', '221', '127', '179', '89', '215', '146', '175', '87', '1'] ['seq0', '0963', '2']\n",
      "34 ['seq0_0963_2', '1299583564.56', '265', '42', '152', '76', '277', '80', '129', '64', '2'] ['seq0', '0963', '2']\n"
     ]
    }
   ],
   "source": [
    "for track in allTrack:\n",
    "    # Read in the file\n",
    "    with open(track) as f:\n",
    "        content = f.readlines()\n",
    "    # you may also want to remove whitespace characters like `\\n` at the end of each line\n",
    "    content = [x.strip().split() for x in content if x[0]!='#'] \n",
    "    for elem in content:\n",
    "        if 'seq0_0963_' not in elem[0]:\n",
    "            continue\n",
    "        print track[-6:-4],elem, elem[0].split('_')\n",
    "        IMAGE_NAME_ID = elem[0]\n",
    "        TS = elem[1]\n",
    "        X_tl_dpt = elem[2]\n",
    "        Y_tl_dpt = elem[3]\n",
    "        WDT_dpt = elem[4]\n",
    "        HGT_dpt = elem[5]\n",
    "        X_tl_rgb = elem[6]\n",
    "        Y_tl_rgb = elem[7]\n",
    "        WDT_rgb = elem[8]\n",
    "        HGT_rgb = elem[9]\n",
    "        VSB= elem[10]"
   ]
  },
  {
   "cell_type": "raw",
   "metadata": {},
   "source": [
    "Pour chaque IMAGE_NAME_ID il faut faire un fichier xml d'annotation qui accumule les détections\n",
    "Il faudra faire un petit code pour ne pas sanctionner une bonne detection d'une personne difficile à trouver\n",
    "il faudra faire un petit code pour trouver la BBox idéale qui marche sur RGB et D. (regarder comment ont fait les autres...)"
   ]
  },
  {
   "cell_type": "code",
   "execution_count": null,
   "metadata": {
    "collapsed": true
   },
   "outputs": [],
   "source": [
    "for (i,f) in enumerate(self.frames):\n",
    "    head, tail = os.path.split(self.filenames[i])\n",
    "    filename = self.vocPath+tail[:-3]+\"xml\"\n",
    "    try:\n",
    "        fd=open(filename,'w')\n",
    "    except:\n",
    "        tkMessageBox.showinfo(TITLE, \"Could not save to the specified XML file. Please check the location. Does the directory exist?\")\n",
    "\n",
    "    print >> fd, \"<annotation>\"\n",
    "    print >> fd, \"\t<folder>\"+self.folderName+\"</folder>\"\n",
    "    print >> fd, \"\t<filename>\"+tail+\"</filename>\"\n",
    "    print >> fd, \"\t<source>\"\n",
    "    print >> fd, \"\t\t<database>The \"+self.datasetName+\" database</database>\"\n",
    "    print >> fd, \"\t</source>\"\n",
    "    print >> fd, \"\t<owner>\"+self.owner+\"</owner>\"\n",
    "    print >> fd, \"\t<size>\"\n",
    "    print >> fd, \"\t\t<width>640</width>\"\n",
    "    print >> fd, \"\t\t<height>480</height>\"\n",
    "    print >> fd, \"\t\t<depth>1</depth>\"\n",
    "    print >> fd, \"\t</size>\"\n",
    "    print >> fd, \"\t<segmented>0</segmented>\"\n",
    "\n",
    "\n",
    "    for (j,r) in enumerate(f.getRects()):\n",
    "        print >> fd, \"\t<object>\"\n",
    "        print >> fd, \"\t\t<name>\"+classnames[self.ClassAssignations[r.objectId-1]]+\"</name>\"\n",
    "        print >> fd, \"\t\t<pose>unknown</pose>\"\n",
    "        print >> fd, \"\t\t<truncated>-1</truncated>\"\n",
    "        print >> fd, \"\t\t<difficult>0</difficult>\"\n",
    "        print >> fd, \"\t\t<bndbox>\"\n",
    "        print >> fd, \"\t\t\t<xmin>\"+str(int(r.x1))+\"</xmin>\"\n",
    "        print >> fd, \"\t\t\t<ymin>\"+str(int(r.y1))+\"</ymin>\"\n",
    "        print >> fd, \"\t\t\t<xmax>\"+str(int(r.x2))+\"</xmax>\"\n",
    "        print >> fd, \"\t\t\t<ymax>\"+str(int(r.y2))+\"</ymax>\"\n",
    "        print >> fd, \"\t\t</bndbox>\"\n",
    "        print >> fd, \"\t</object>\"\n",
    "\n",
    "    print >> fd, \"</annotation>\"\n",
    "    fd.close()"
   ]
  }
 ],
 "metadata": {
  "anaconda-cloud": {},
  "kernelspec": {
   "display_name": "Python [conda env:pyt3]",
   "language": "python",
   "name": "conda-env-pyt3-py"
  },
  "language_info": {
   "codemirror_mode": {
    "name": "ipython",
    "version": 2
   },
   "file_extension": ".py",
   "mimetype": "text/x-python",
   "name": "python",
   "nbconvert_exporter": "python",
   "pygments_lexer": "ipython2",
   "version": "2.7.12"
  }
 },
 "nbformat": 4,
 "nbformat_minor": 1
}

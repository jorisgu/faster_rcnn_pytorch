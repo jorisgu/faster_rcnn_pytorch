{
 "cells": [
  {
   "cell_type": "markdown",
   "metadata": {},
   "source": [
    "# RGBD People dataset conversion toolkit"
   ]
  },
  {
   "cell_type": "code",
   "execution_count": 1,
   "metadata": {
    "collapsed": true
   },
   "outputs": [],
   "source": [
    "import glob\n",
    "import os\n",
    "import numpy as np"
   ]
  },
  {
   "cell_type": "code",
   "execution_count": 2,
   "metadata": {
    "collapsed": true
   },
   "outputs": [],
   "source": [
    "pathBasic='/home/jguerry/workspace/datasets/RGBD_people/data/track_annotations/'\n",
    "pathAnnot_pv='/home/jguerry/workspace/datasets/RGBD_people/data/Annotations_pv/'\n",
    "allTrack=sorted(glob.glob(pathBasic+\"/Track*\"))"
   ]
  },
  {
   "cell_type": "code",
   "execution_count": 3,
   "metadata": {
    "collapsed": false
   },
   "outputs": [],
   "source": [
    "myBoxes={}\n",
    "for track in allTrack:\n",
    "    # Read in the file\n",
    "    with open(track) as f:\n",
    "        content = f.readlines()\n",
    "    # you may also want to remove whitespace characters like `\\n` at the end of each line\n",
    "    content = [x.strip().split() for x in content if x[0]!='#'] \n",
    "    for elem in content:\n",
    "\n",
    "#         if 'seq0_0963_' not in elem[0]:\n",
    "#             continue\n",
    "#         print track[-6:-4],elem, elem[0].split('_')\n",
    "        IMAGE_NAME_ID = elem[0]\n",
    "        TS = elem[1]\n",
    "        X_tl_dpt = elem[2]\n",
    "        Y_tl_dpt = elem[3]\n",
    "        WDT_dpt = elem[4]\n",
    "        HGT_dpt = elem[5]\n",
    "        X_tl_rgb = elem[6]\n",
    "        Y_tl_rgb = elem[7]\n",
    "        WDT_rgb = elem[8]\n",
    "        HGT_rgb = elem[9]\n",
    "        VSB= elem[10]\n",
    "        \n",
    "        \n",
    "        if VSB=='0':\n",
    "            difficulty=2\n",
    "        elif VSB=='1':\n",
    "            difficulty=0\n",
    "        elif VSB=='2':\n",
    "            difficulty=1\n",
    "        else:\n",
    "            print 'aaaaaaarrrr',VSB\n",
    "                \n",
    "        \n",
    "        x1=int(X_tl_rgb)\n",
    "        y1=int(Y_tl_rgb)\n",
    "        x2=int(X_tl_rgb)+int(WDT_rgb)\n",
    "        y2=int(Y_tl_rgb)+int(HGT_rgb)\n",
    "        track_id=int(track[-6:-4])\n",
    "        \n",
    "        if IMAGE_NAME_ID not in myBoxes:\n",
    "            myBoxes[IMAGE_NAME_ID]=[{'classname':'person','track_id':track_id,'difficulty':difficulty,'x1':x1,'y1':y1,'x2':x2,'y2':y2}]\n",
    "        else:\n",
    "            myBoxes[IMAGE_NAME_ID]=myBoxes[IMAGE_NAME_ID]+[{'classname':'person','track_id':track_id,'difficulty':difficulty,'x1':x1,'y1':y1,'x2':x2,'y2':y2}]"
   ]
  },
  {
   "cell_type": "code",
   "execution_count": 8,
   "metadata": {
    "collapsed": false
   },
   "outputs": [],
   "source": [
    "for frame in myBoxes:\n",
    "    filename = pathAnnot_pv+frame+\".xml\"\n",
    "    try:\n",
    "        fd=open(filename,'w')\n",
    "    except:\n",
    "        print 'Could not save to the specified XML file. Please check the location. Does the directory exist?'\n",
    "\n",
    "    print >> fd, \"<annotation>\"\n",
    "    print >> fd, \"\t<folder>rgb</folder>\"\n",
    "    print >> fd, \"\t<filename>\"+frame+\"</filename>\"\n",
    "    print >> fd, \"\t<source>\"\n",
    "    print >> fd, \"\t\t<database>The RGBD People database</database>\"\n",
    "    print >> fd, \"\t</source>\"\n",
    "    print >> fd, \"\t<owner>M. Luber and L. Spinello and K. O. Arras</owner>\"\n",
    "    print >> fd, \"\t<size>\"\n",
    "    print >> fd, \"\t\t<width>640</width>\"\n",
    "    print >> fd, \"\t\t<height>480</height>\"\n",
    "    print >> fd, \"\t\t<depth>3</depth>\"\n",
    "    print >> fd, \"\t</size>\"\n",
    "    print >> fd, \"\t<segmented>0</segmented>\"\n",
    "\n",
    "\n",
    "    for boxe in myBoxes[frame]:\n",
    "        print >> fd, \"\t<object>\"\n",
    "        print >> fd, \"\t\t<name>\"+boxe['classname']+\"</name>\"\n",
    "        print >> fd, \"\t\t<pose>unknown</pose>\"\n",
    "        print >> fd, \"\t\t<truncated>-1</truncated>\"\n",
    "        print >> fd, \"\t\t<difficult>\"+str(boxe['difficulty'])+\"</difficult>\"\n",
    "        print >> fd, \"\t\t<bndbox>\"\n",
    "        print >> fd, \"\t\t\t<xmin>\"+str(boxe['x1'])+\"</xmin>\"\n",
    "        print >> fd, \"\t\t\t<ymin>\"+str(boxe['y1'])+\"</ymin>\"\n",
    "        print >> fd, \"\t\t\t<xmax>\"+str(boxe['x2'])+\"</xmax>\"\n",
    "        print >> fd, \"\t\t\t<ymax>\"+str(boxe['y2'])+\"</ymax>\"\n",
    "        print >> fd, \"\t\t</bndbox>\"\n",
    "        print >> fd, \"\t</object>\"\n",
    "\n",
    "    print >> fd, \"</annotation>\"\n",
    "    fd.close()"
   ]
  },
  {
   "cell_type": "code",
   "execution_count": null,
   "metadata": {
    "collapsed": true
   },
   "outputs": [],
   "source": []
  }
 ],
 "metadata": {
  "anaconda-cloud": {},
  "kernelspec": {
   "display_name": "Python [conda env:pyt3]",
   "language": "python",
   "name": "conda-env-pyt3-py"
  },
  "language_info": {
   "codemirror_mode": {
    "name": "ipython",
    "version": 2
   },
   "file_extension": ".py",
   "mimetype": "text/x-python",
   "name": "python",
   "nbconvert_exporter": "python",
   "pygments_lexer": "ipython2",
   "version": "2.7.12"
  }
 },
 "nbformat": 4,
 "nbformat_minor": 1
}

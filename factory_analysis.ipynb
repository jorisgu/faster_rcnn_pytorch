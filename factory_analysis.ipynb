{
 "cells": [
  {
   "cell_type": "code",
   "execution_count": 6,
   "metadata": {
    "collapsed": false
   },
   "outputs": [
    {
     "name": "stdout",
     "output_type": "stream",
     "text": [
      "<bound method sunrgbd.default_roidb of <faster_rcnn.datasets.sunrgbd.sunrgbd object at 0x7f5b4d6c77d0>>\n",
      "Remove empty annotations:  Done. [ 0 removed]\n"
     ]
    }
   ],
   "source": [
    "import os\n",
    "import numpy as np\n",
    "from datetime import datetime\n",
    "\n",
    "import faster_rcnn.roi_data_layer.roidb as rdl_roidb\n",
    "from faster_rcnn.datasets.factory import get_imdb\n",
    "from faster_rcnn.fast_rcnn.config import cfg, cfg_from_file\n",
    "\n",
    "def log_print(text, color=None, on_color=None, attrs=None):\n",
    "    if cprint is not None:\n",
    "        cprint(text, color=color, on_color=on_color, attrs=attrs)\n",
    "    else:\n",
    "        print(text)\n",
    "\n",
    "\n",
    "\n",
    "# hyper-parameters\n",
    "# ------------\n",
    "# imdb_name = 'oneraroom_all_rgb' #train\n",
    "# cfg_file = 'experiments/cfgs/faster_rcnn_end2end_oneraroom.yml'\n",
    "\n",
    "\n",
    "imdb_name = 'sunrgbd_train_rgb_i_100_8bits'\n",
    "cfg_file = 'experiments/cfgs/faster_rcnn_end2end_sunrgbd.yml'\n",
    "\n",
    "\n",
    "# load config\n",
    "cfg_from_file(cfg_file)\n",
    "\n",
    "# load data\n",
    "imdb = get_imdb(imdb_name)"
   ]
  },
  {
   "cell_type": "code",
   "execution_count": 7,
   "metadata": {
    "collapsed": false
   },
   "outputs": [
    {
     "name": "stdout",
     "output_type": "stream",
     "text": [
      "sunrgbd_train_rgb_i_100_8bits gt roidb loaded from /c16/THESE.JORIS/datasets/SUNRGBD_pv/faster_rcnn/cache/sunrgbd_train_rgb_i_100_8bits_gt_roidb.pkl\n"
     ]
    }
   ],
   "source": [
    "gt_roidb=imdb.gt_roidb()"
   ]
  },
  {
   "cell_type": "code",
   "execution_count": 8,
   "metadata": {
    "collapsed": false,
    "scrolled": false
   },
   "outputs": [
    {
     "name": "stdout",
     "output_type": "stream",
     "text": [
      "shelves 1\n",
      "shower_curtain 11\n",
      "window 32\n",
      "bathtub 134\n",
      "fridge 183\n",
      "toilet 205\n",
      "curtain 230\n",
      "towel 262\n",
      "bag 269\n",
      "blinds 326\n",
      "tv 357\n",
      "mirror 446\n",
      "sink 530\n",
      "bookshelf 703\n",
      "night_stand 869\n",
      "paper 1280\n",
      "books 1397\n",
      "bed 1512\n",
      "box 1595\n",
      "picture 1765\n",
      "dresser 1862\n",
      "door 2068\n",
      "counter 2109\n",
      "person 2411\n",
      "whiteboard 2461\n",
      "sofa 2687\n",
      "cabinet 3046\n",
      "lamp 4639\n",
      "desk 5474\n",
      "pillow 8988\n",
      "table 15706\n",
      "__background__ 195407\n"
     ]
    }
   ],
   "source": [
    "# print \"analysing...\"\n",
    "myClassesDict = {}\n",
    "for img_rois in gt_roidb:\n",
    "    for id_cls in img_rois['gt_classes']:\n",
    "        myClassesDict[imdb._classes[id_cls]] = myClassesDict.get(imdb._classes[id_cls], 0) + 1\n",
    "        \n",
    "a = sorted(myClassesDict, key=myClassesDict.get)\n",
    "for cls in a:\n",
    "    print cls, myClassesDict[cls]\n",
    "# print myClassesDict\n",
    "# print \"analysed !\""
   ]
  },
  {
   "cell_type": "code",
   "execution_count": 9,
   "metadata": {
    "collapsed": false
   },
   "outputs": [
    {
     "name": "stdout",
     "output_type": "stream",
     "text": [
      "shelves 1e-05\n",
      "shower_curtain 5e-05\n",
      "window 0.00013\n",
      "bathtub 0.00053\n",
      "fridge 0.00072\n",
      "toilet 0.0008\n",
      "curtain 0.0009\n",
      "towel 0.00102\n",
      "bag 0.00105\n",
      "blinds 0.00127\n",
      "tv 0.00139\n",
      "mirror 0.00173\n",
      "sink 0.00206\n",
      "bookshelf 0.00272\n",
      "night_stand 0.00337\n",
      "paper 0.00495\n",
      "books 0.0054\n",
      "bed 0.00585\n",
      "box 0.00617\n",
      "picture 0.00683\n",
      "dresser 0.0072\n",
      "door 0.008\n",
      "counter 0.00815\n",
      "person 0.00932\n",
      "whiteboard 0.00951\n",
      "sofa 0.01039\n",
      "cabinet 0.01177\n",
      "lamp 0.01792\n",
      "desk 0.02115\n",
      "pillow 0.03472\n",
      "table 0.06066\n",
      "__background__ 0.75458\n"
     ]
    }
   ],
   "source": [
    "myFreqDict = {}\n",
    "total = sum(myClassesDict.values())\n",
    "for cls in myClassesDict.keys():\n",
    "    myFreqDict[cls]=round(float(myClassesDict[cls])/total,5) + 1e-05\n",
    "        \n",
    "b = sorted(myFreqDict, key=myFreqDict.get)\n",
    "ind_med_freq = (len(b)-1)/2\n",
    "medianFreq = myFreqDict[b[ind_med_freq]]\n",
    "for cls in b:\n",
    "    print cls, myFreqDict[cls]\n",
    "\n",
    "# myFreqDict"
   ]
  },
  {
   "cell_type": "code",
   "execution_count": 5,
   "metadata": {
    "collapsed": false
   },
   "outputs": [
    {
     "name": "stdout",
     "output_type": "stream",
     "text": [
      "classes_weights_dict['person'] = 0.0\n"
     ]
    }
   ],
   "source": [
    "myWeightsDict = {}\n",
    "for cls in myClassesDict.keys():\n",
    "    #myWeightsDict[cls] = 1+round(medianFreq/myFreqDict[cls],3)\n",
    "    myWeightsDict[cls] = float(total-myClassesDict[cls])/(100*myClassesDict[cls])\n",
    "    print 'classes_weights_dict[\\''+cls+'\\'] = '+str(myWeightsDict[cls])"
   ]
  },
  {
   "cell_type": "code",
   "execution_count": null,
   "metadata": {
    "collapsed": true
   },
   "outputs": [],
   "source": [
    "_classes = ('__background__', # always index 0\n",
    "                         #'wall',\n",
    "                        #'floor',\n",
    "                        'cabinet',\n",
    "                        'bed',\n",
    "                        'chair',\n",
    "                        'sofa',\n",
    "                        'table',\n",
    "                        'door',\n",
    "                        'window',\n",
    "                        'bookshelf',\n",
    "                        'picture',\n",
    "                        'counter',\n",
    "                        'blinds',\n",
    "                        'desk',\n",
    "                        'shelves',\n",
    "                        'curtain',\n",
    "                        'dresser',\n",
    "                        'pillow',\n",
    "                        'mirror',\n",
    "                        #'floor_mat',\n",
    "                        #'clothes',\n",
    "                        #'ceiling',\n",
    "                        'books',\n",
    "                        'fridge',\n",
    "                        'tv',\n",
    "                        'paper',\n",
    "                        'towel',\n",
    "                        'shower_curtain',\n",
    "                        'box',\n",
    "                        'whiteboard',\n",
    "                        'person',\n",
    "                        'night_stand',\n",
    "                        'toilet',\n",
    "                        'sink',\n",
    "                        'lamp',\n",
    "                        'bathtub',\n",
    "                        'bag')\n",
    "_class_to_ind = dict(zip(_classes, xrange(len(_classes))))"
   ]
  },
  {
   "cell_type": "code",
   "execution_count": null,
   "metadata": {
    "collapsed": false
   },
   "outputs": [],
   "source": [
    "weights = [-1]\n",
    "for i in range(1,len(_classes)):\n",
    "    print _classes[i],myWeightsDict[_classes[i]]\n",
    "    weights= weights+[myWeightsDict[_classes[i]]]\n",
    "print weights"
   ]
  },
  {
   "cell_type": "code",
   "execution_count": null,
   "metadata": {
    "collapsed": false
   },
   "outputs": [],
   "source": [
    "len(_classes)"
   ]
  },
  {
   "cell_type": "code",
   "execution_count": null,
   "metadata": {
    "collapsed": false
   },
   "outputs": [],
   "source": [
    "len(weights)"
   ]
  },
  {
   "cell_type": "code",
   "execution_count": null,
   "metadata": {
    "collapsed": true
   },
   "outputs": [],
   "source": []
  }
 ],
 "metadata": {
  "anaconda-cloud": {},
  "kernelspec": {
   "display_name": "Python [conda env:pyt3]",
   "language": "python",
   "name": "conda-env-pyt3-py"
  },
  "language_info": {
   "codemirror_mode": {
    "name": "ipython",
    "version": 2
   },
   "file_extension": ".py",
   "mimetype": "text/x-python",
   "name": "python",
   "nbconvert_exporter": "python",
   "pygments_lexer": "ipython2",
   "version": "2.7.12"
  }
 },
 "nbformat": 4,
 "nbformat_minor": 1
}

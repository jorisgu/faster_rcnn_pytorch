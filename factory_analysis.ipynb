{
 "cells": [
  {
   "cell_type": "code",
   "execution_count": 2,
   "metadata": {
    "collapsed": false
   },
   "outputs": [
    {
     "name": "stdout",
     "output_type": "stream",
     "text": [
      " Remove empty annotations:  Done. [ 0 removed]\n"
     ]
    }
   ],
   "source": [
    "import os\n",
    "import numpy as np\n",
    "from datetime import datetime\n",
    "\n",
    "import faster_rcnn.roi_data_layer.roidb as rdl_roidb\n",
    "from faster_rcnn.datasets.factory import get_imdb\n",
    "from faster_rcnn.fast_rcnn.config import cfg, cfg_from_file\n",
    "\n",
    "def log_print(text, color=None, on_color=None, attrs=None):\n",
    "    if cprint is not None:\n",
    "        cprint(text, color=color, on_color=on_color, attrs=attrs)\n",
    "    else:\n",
    "        print(text)\n",
    "\n",
    "\n",
    "\n",
    "# hyper-parameters\n",
    "# ------------\n",
    "# imdb_name = 'oneraroom_all_rgb' #train\n",
    "# cfg_file = 'experiments/cfgs/faster_rcnn_end2end_oneraroom.yml'\n",
    "\n",
    "\n",
    "imdb_name = 'sunrgbd_13_test_rgb_i_100_8bits'\n",
    "cfg_file = 'experiments/cfgs/faster_rcnn_end2end_sunrgbd_13.yml'\n",
    "\n",
    "\n",
    "# load config\n",
    "cfg_from_file(cfg_file)\n",
    "\n",
    "# load data\n",
    "imdb = get_imdb(imdb_name)"
   ]
  },
  {
   "cell_type": "code",
   "execution_count": 3,
   "metadata": {
    "collapsed": false
   },
   "outputs": [
    {
     "name": "stdout",
     "output_type": "stream",
     "text": [
      "Wrote gt roidb to /c16/THESE.JORIS/datasets/SUNRGBD_pv/faster_rcnn/cache/sunrgbd_test_rgb_i_100_8bits_gt_roidb.pkl for later use.\n"
     ]
    }
   ],
   "source": [
    "gt_roidb=imdb.gt_roidb()"
   ]
  },
  {
   "cell_type": "code",
   "execution_count": 4,
   "metadata": {
    "collapsed": false,
    "scrolled": false
   },
   "outputs": [
    {
     "name": "stdout",
     "output_type": "stream",
     "text": [
      "books 181\n",
      "picture 388\n",
      "window 498\n",
      "bed 988\n",
      "sofa 3989\n",
      "wall 4441\n",
      "tv 5266\n",
      "objects 19960\n",
      "table 31494\n",
      "furniture 32621\n",
      "chair 126217\n"
     ]
    }
   ],
   "source": [
    "# print \"analysing...\"\n",
    "myClassesDict = {}\n",
    "for img_rois in gt_roidb:\n",
    "    for id_cls in img_rois['gt_classes']:\n",
    "        myClassesDict[imdb._classes[id_cls]] = myClassesDict.get(imdb._classes[id_cls], 0) + 1\n",
    "        \n",
    "a = sorted(myClassesDict, key=myClassesDict.get)\n",
    "for cls in a:\n",
    "    print cls, myClassesDict[cls]\n",
    "# print myClassesDict\n",
    "# print \"analysed !\""
   ]
  },
  {
   "cell_type": "code",
   "execution_count": null,
   "metadata": {
    "collapsed": false
   },
   "outputs": [],
   "source": [
    "myFreqDict = {}\n",
    "total = sum(myClassesDict.values())\n",
    "for cls in myClassesDict.keys():\n",
    "    myFreqDict[cls]=round(float(myClassesDict[cls])/total,5) + 1e-05\n",
    "        \n",
    "b = sorted(myFreqDict, key=myFreqDict.get)\n",
    "ind_med_freq = (len(b)-1)/2\n",
    "medianFreq = myFreqDict[b[ind_med_freq]]\n",
    "for cls in b:\n",
    "    print cls, myFreqDict[cls]\n",
    "\n",
    "# myFreqDict"
   ]
  },
  {
   "cell_type": "code",
   "execution_count": null,
   "metadata": {
    "collapsed": false
   },
   "outputs": [],
   "source": [
    "myWeightsDict = {}\n",
    "for cls in myClassesDict.keys():\n",
    "    #myWeightsDict[cls] = 1+round(medianFreq/myFreqDict[cls],3)\n",
    "    myWeightsDict[cls] = float(total-myClassesDict[cls])/(100*myClassesDict[cls])\n",
    "    print 'classes_weights_dict[\\''+cls+'\\'] = '+str(myWeightsDict[cls])"
   ]
  },
  {
   "cell_type": "code",
   "execution_count": null,
   "metadata": {
    "collapsed": true
   },
   "outputs": [],
   "source": [
    "_classes = ('__background__', # always index 0\n",
    "                         #'wall',\n",
    "                        #'floor',\n",
    "                        'cabinet',\n",
    "                        'bed',\n",
    "                        'chair',\n",
    "                        'sofa',\n",
    "                        'table',\n",
    "                        'door',\n",
    "                        'window',\n",
    "                        'bookshelf',\n",
    "                        'picture',\n",
    "                        'counter',\n",
    "                        'blinds',\n",
    "                        'desk',\n",
    "                        'shelves',\n",
    "                        'curtain',\n",
    "                        'dresser',\n",
    "                        'pillow',\n",
    "                        'mirror',\n",
    "                        #'floor_mat',\n",
    "                        #'clothes',\n",
    "                        #'ceiling',\n",
    "                        'books',\n",
    "                        'fridge',\n",
    "                        'tv',\n",
    "                        'paper',\n",
    "                        'towel',\n",
    "                        'shower_curtain',\n",
    "                        'box',\n",
    "                        'whiteboard',\n",
    "                        'person',\n",
    "                        'night_stand',\n",
    "                        'toilet',\n",
    "                        'sink',\n",
    "                        'lamp',\n",
    "                        'bathtub',\n",
    "                        'bag')\n",
    "_class_to_ind = dict(zip(_classes, xrange(len(_classes))))"
   ]
  },
  {
   "cell_type": "code",
   "execution_count": null,
   "metadata": {
    "collapsed": false
   },
   "outputs": [],
   "source": [
    "weights = [-1]\n",
    "for i in range(1,len(_classes)):\n",
    "    print _classes[i],myWeightsDict[_classes[i]]\n",
    "    weights= weights+[myWeightsDict[_classes[i]]]\n",
    "print weights"
   ]
  },
  {
   "cell_type": "code",
   "execution_count": null,
   "metadata": {
    "collapsed": false
   },
   "outputs": [],
   "source": [
    "len(_classes)"
   ]
  },
  {
   "cell_type": "code",
   "execution_count": null,
   "metadata": {
    "collapsed": false
   },
   "outputs": [],
   "source": [
    "len(weights)"
   ]
  },
  {
   "cell_type": "code",
   "execution_count": null,
   "metadata": {
    "collapsed": true
   },
   "outputs": [],
   "source": []
  }
 ],
 "metadata": {
  "anaconda-cloud": {},
  "kernelspec": {
   "display_name": "Python [conda env:pyt3]",
   "language": "python",
   "name": "conda-env-pyt3-py"
  },
  "language_info": {
   "codemirror_mode": {
    "name": "ipython",
    "version": 2
   },
   "file_extension": ".py",
   "mimetype": "text/x-python",
   "name": "python",
   "nbconvert_exporter": "python",
   "pygments_lexer": "ipython2",
   "version": "2.7.12"
  }
 },
 "nbformat": 4,
 "nbformat_minor": 1
}

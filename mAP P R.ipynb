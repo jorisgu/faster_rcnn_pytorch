{
 "cells": [
  {
   "cell_type": "code",
   "execution_count": 1,
   "metadata": {
    "collapsed": false
   },
   "outputs": [],
   "source": [
    "import os\n",
    "import torch\n",
    "import cv2\n",
    "import cPickle\n",
    "import numpy as np\n",
    "import errno\n",
    "\n",
    "from faster_rcnn import network\n",
    "from faster_rcnn.faster_rcnn_x import FasterRCNN, FasterRCNN_x\n",
    "from faster_rcnn.utils.timer import Timer\n",
    "from faster_rcnn.fast_rcnn.nms_wrapper import nms\n",
    "\n",
    "from faster_rcnn.fast_rcnn.bbox_transform import bbox_transform_inv, clip_boxes\n",
    "from faster_rcnn.datasets.factory import get_imdb\n",
    "from faster_rcnn.fast_rcnn.config import cfg, cfg_from_file, get_output_dir\n",
    "from faster_rcnn.datasets.voc_eval import voc_eval\n",
    "from faster_rcnn.datasets.jg_voc_eval import voc_eval as jg_voc_eval\n",
    "import pickle"
   ]
  },
  {
   "cell_type": "code",
   "execution_count": 2,
   "metadata": {
    "collapsed": true
   },
   "outputs": [],
   "source": [
    "import matplotlib.pyplot as plt\n",
    "from sklearn.metrics import precision_recall_curve\n",
    "from sklearn.metrics import average_precision_score\n",
    "%matplotlib inline\n",
    "from itertools import cycle\n",
    "# setup plot details\n",
    "# colors = cycle(['navy', 'turquoise', 'darkorange', 'cornflowerblue', 'teal'])\n",
    "colors = ['red','navy', 'turquoise', 'darkorange', 'cornflowerblue', 'teal']\n",
    "lw = 2"
   ]
  },
  {
   "cell_type": "code",
   "execution_count": 3,
   "metadata": {
    "collapsed": false
   },
   "outputs": [
    {
     "name": "stdout",
     "output_type": "stream",
     "text": [
      "<bound method oneraroom.default_roidb of <faster_rcnn.datasets.oneraroom.oneraroom object at 0x7f676409dbd0>>\n",
      "Remove empty annotations:  Done. [ 3888 removed]\n",
      "Done.\n"
     ]
    }
   ],
   "source": [
    "pytorchpath = '/home/jguerry/workspace/jg_dl/jg_pyt/'\n",
    "cfg_file = pytorchpath+'experiments/cfgs/faster_rcnn_end2end_oneraroom.yml'\n",
    "# load config\n",
    "cfg_from_file(cfg_file)\n",
    "\n",
    "imdb_test_name_0 = 'oneraroom_easy_rgb'\n",
    "imdb_0 = get_imdb(imdb_test_name_0)\n",
    "\n",
    "annopath = os.path.join(imdb_0._data_path,'annotations', '{:s}.xml')\n",
    "imagesetfile = os.path.join(imdb_0._data_path,'sets',imdb_0._image_set + '.txt')\n",
    "\n",
    "# ONERAROOM\n",
    "basicPath = '/home/jguerry/workspace/jg_dl/jg_pyt/output/faster_rcnn_oneraroom_exp/'\n",
    "myList={}\n",
    "\n",
    "#Y\n",
    "myList['y_blackout']={'path':basicPath+'inout_y_on_oneraroom_easy_rgbd_100000_blackout/detectionsinout_y_on_oneraroom_easy_rgbd_100000_blackout.pkl',\n",
    "                           'name':'Fusion Y RGB-D [blackout]', 'results':{}}\n",
    "\n",
    "myList['inout_y_on_oneraroom_easy_rgbd_100000']={'path':basicPath+'inout_y_on_oneraroom_easy_rgbd_100000/detectionsinout_y_on_oneraroom_easy_rgbd_100000.pkl',\n",
    "                           'name':'Fusion Y RGB-D', 'results':{}}\n",
    "\n",
    "\n",
    "# X\n",
    "myList['x_blackout']={'path':basicPath+'inout_x_on_oneraroom_easy_rgbd_10000_blackout/detectionsinout_x_on_oneraroom_easy_rgbd_10000_blackout.pkl',\n",
    "                           'name':'Fusion X RGB-D [blackout]', 'results':{}}\n",
    "\n",
    "myList['inout_x_on_oneraroom_easy_rgbd_10000']={'path':basicPath+'inout_x_on_oneraroom_easy_rgbd_10000/detectionsinout_x_on_oneraroom_easy_rgbd_10000.pkl',\n",
    "                           'name':'Fusion X RGB-D', 'results':{}}\n",
    "\n",
    "# CLASSIC\n",
    "myList['oneraroom_easy_rgb']={'path':basicPath+'oneraroom_easy_rgb/detections_inout_jg_train_Images_on_oneraroom_easy_rgb.pkl',\n",
    "                           'name':'RGB', 'results':{}}\n",
    "myList['oneraroom_easy_depth_8bits']={'path':basicPath+'oneraroom_easy_depth_8bits/detections_inout_jg_train_Depth_on_oneraroom_easy_depth_8bits.pkl',\n",
    "                           'name':'D', 'results':{}}\n",
    "\n",
    "print 'Done.'"
   ]
  },
  {
   "cell_type": "code",
   "execution_count": null,
   "metadata": {
    "collapsed": false
   },
   "outputs": [],
   "source": [
    "pytorchpath = '/home/jguerry/workspace/jg_dl/jg_pyt/'\n",
    "cfg_file = pytorchpath+'experiments/cfgs/faster_rcnn_end2end_inout.yml'\n",
    "# load config\n",
    "cfg_from_file(cfg_file)\n",
    "\n",
    "imdb_test_name_0 = 'inout_test_Images'\n",
    "imdb_0 = get_imdb(imdb_test_name_0)\n",
    "\n",
    "\n",
    "annopath = os.path.join(imdb_0._data_path,'Annotations_pv', '{:s}.xml')\n",
    "imagesetfile = os.path.join(imdb_0._data_path,'ImageSets',imdb_0._image_set + '.txt')\n",
    "\n",
    "\n",
    "# INOUT train test\n",
    "basicPath = '/home/jguerry/workspace/jg_dl/jg_pyt/output/faster_rcnn_inout_exp/'\n",
    "myList={}\n",
    "\n",
    "\n",
    "myList['x_inout_test_Images_inout_test_Depth']={'path':basicPath+'inout_test_Images_inout_test_Depth/detections_inout_x_10000.pkl',\n",
    "                           'name':'Fusion RGB-D X', 'results':{}}\n",
    "myList['y_inout_test_Images_inout_test_Depth']={'path':basicPath+'inout_test_Images_inout_test_Depth/detections_inout_y_100000.pkl',\n",
    "                           'name':'Fusion RGB-D Y', 'results':{}}\n",
    "myList['inout_test_Images']={'path':basicPath+'inout_test_Images/detections_inout_Images_10000.pkl',\n",
    "                           'name':'RGB', 'results':{}}\n",
    "myList['inout_test_Depth']={'path':basicPath+'inout_test_Depth/detections_inout_Depth_10000.pkl',\n",
    "                           'name':'D', 'results':{}}\n",
    "\n",
    "print 'Done.'"
   ]
  },
  {
   "cell_type": "code",
   "execution_count": 4,
   "metadata": {
    "collapsed": false,
    "scrolled": true
   },
   "outputs": [
    {
     "name": "stdout",
     "output_type": "stream",
     "text": [
      "oneraroom_easy_rgb\n",
      "Writing person VOC results file\n",
      "Reading annotation for 1/5546\n"
     ]
    },
    {
     "name": "stderr",
     "output_type": "stream",
     "text": [
      "/data/soft/anaconda2/envs/pyt3/lib/python2.7/site-packages/ipykernel/__main__.py:17: DeprecationWarning: elementwise == comparison failed; this will raise an error in the future.\n"
     ]
    },
    {
     "name": "stdout",
     "output_type": "stream",
     "text": [
      "Reading annotation for 201/5546\n",
      "Reading annotation for 401/5546\n",
      "Reading annotation for 601/5546\n",
      "Reading annotation for 801/5546\n",
      "Reading annotation for 1001/5546\n",
      "Reading annotation for 1201/5546\n",
      "Reading annotation for 1401/5546\n",
      "Reading annotation for 1601/5546\n",
      "Reading annotation for 1801/5546\n",
      "Reading annotation for 2001/5546\n",
      "Reading annotation for 2201/5546\n",
      "Reading annotation for 2401/5546\n",
      "Reading annotation for 2601/5546\n",
      "Reading annotation for 2801/5546\n",
      "Reading annotation for 3001/5546\n",
      "Reading annotation for 3201/5546\n",
      "Reading annotation for 3401/5546\n",
      "Reading annotation for 3601/5546\n",
      "Reading annotation for 3801/5546\n",
      "Reading annotation for 4001/5546\n",
      "Reading annotation for 4201/5546\n",
      "Reading annotation for 4401/5546\n",
      "Reading annotation for 4601/5546\n",
      "Reading annotation for 4801/5546\n",
      "Reading annotation for 5001/5546\n",
      "Reading annotation for 5201/5546\n",
      "Reading annotation for 5401/5546\n",
      "inout_y_on_oneraroom_easy_rgbd_100000\n",
      "Writing person VOC results file\n",
      "Reading annotation for 1/5546\n",
      "Reading annotation for 201/5546\n",
      "Reading annotation for 401/5546\n",
      "Reading annotation for 601/5546\n",
      "Reading annotation for 801/5546\n",
      "Reading annotation for 1001/5546\n",
      "Reading annotation for 1201/5546\n",
      "Reading annotation for 1401/5546\n",
      "Reading annotation for 1601/5546\n",
      "Reading annotation for 1801/5546\n",
      "Reading annotation for 2001/5546\n",
      "Reading annotation for 2201/5546\n",
      "Reading annotation for 2401/5546\n",
      "Reading annotation for 2601/5546\n",
      "Reading annotation for 2801/5546\n",
      "Reading annotation for 3001/5546\n",
      "Reading annotation for 3201/5546\n",
      "Reading annotation for 3401/5546\n",
      "Reading annotation for 3601/5546\n",
      "Reading annotation for 3801/5546\n",
      "Reading annotation for 4001/5546\n",
      "Reading annotation for 4201/5546\n",
      "Reading annotation for 4401/5546\n",
      "Reading annotation for 4601/5546\n",
      "Reading annotation for 4801/5546\n",
      "Reading annotation for 5001/5546\n",
      "Reading annotation for 5201/5546\n",
      "Reading annotation for 5401/5546\n",
      "y_blackout\n",
      "Writing person VOC results file\n",
      "Reading annotation for 1/5546\n",
      "Reading annotation for 201/5546\n",
      "Reading annotation for 401/5546\n",
      "Reading annotation for 601/5546\n",
      "Reading annotation for 801/5546\n",
      "Reading annotation for 1001/5546\n",
      "Reading annotation for 1201/5546\n",
      "Reading annotation for 1401/5546\n",
      "Reading annotation for 1601/5546\n",
      "Reading annotation for 1801/5546\n",
      "Reading annotation for 2001/5546\n",
      "Reading annotation for 2201/5546\n",
      "Reading annotation for 2401/5546\n",
      "Reading annotation for 2601/5546\n",
      "Reading annotation for 2801/5546\n",
      "Reading annotation for 3001/5546\n",
      "Reading annotation for 3201/5546\n",
      "Reading annotation for 3401/5546\n",
      "Reading annotation for 3601/5546\n",
      "Reading annotation for 3801/5546\n",
      "Reading annotation for 4001/5546\n",
      "Reading annotation for 4201/5546\n",
      "Reading annotation for 4401/5546\n",
      "Reading annotation for 4601/5546\n",
      "Reading annotation for 4801/5546\n",
      "Reading annotation for 5001/5546\n",
      "Reading annotation for 5201/5546\n",
      "Reading annotation for 5401/5546\n",
      "x_blackout\n",
      "Writing person VOC results file\n",
      "Reading annotation for 1/5546\n",
      "Reading annotation for 201/5546\n",
      "Reading annotation for 401/5546\n",
      "Reading annotation for 601/5546\n",
      "Reading annotation for 801/5546\n",
      "Reading annotation for 1001/5546\n",
      "Reading annotation for 1201/5546\n",
      "Reading annotation for 1401/5546\n",
      "Reading annotation for 1601/5546\n",
      "Reading annotation for 1801/5546\n",
      "Reading annotation for 2001/5546\n",
      "Reading annotation for 2201/5546\n",
      "Reading annotation for 2401/5546\n",
      "Reading annotation for 2601/5546\n",
      "Reading annotation for 2801/5546\n",
      "Reading annotation for 3001/5546\n",
      "Reading annotation for 3201/5546\n",
      "Reading annotation for 3401/5546\n",
      "Reading annotation for 3601/5546\n",
      "Reading annotation for 3801/5546\n",
      "Reading annotation for 4001/5546\n",
      "Reading annotation for 4201/5546\n",
      "Reading annotation for 4401/5546\n",
      "Reading annotation for 4601/5546\n",
      "Reading annotation for 4801/5546\n",
      "Reading annotation for 5001/5546\n",
      "Reading annotation for 5201/5546\n",
      "Reading annotation for 5401/5546\n",
      "inout_x_on_oneraroom_easy_rgbd_10000\n",
      "Writing person VOC results file\n",
      "Reading annotation for 1/5546\n",
      "Reading annotation for 201/5546\n",
      "Reading annotation for 401/5546\n",
      "Reading annotation for 601/5546\n",
      "Reading annotation for 801/5546\n",
      "Reading annotation for 1001/5546\n",
      "Reading annotation for 1201/5546\n",
      "Reading annotation for 1401/5546\n",
      "Reading annotation for 1601/5546\n",
      "Reading annotation for 1801/5546\n",
      "Reading annotation for 2001/5546\n",
      "Reading annotation for 2201/5546\n",
      "Reading annotation for 2401/5546\n",
      "Reading annotation for 2601/5546\n",
      "Reading annotation for 2801/5546\n",
      "Reading annotation for 3001/5546\n",
      "Reading annotation for 3201/5546\n",
      "Reading annotation for 3401/5546\n",
      "Reading annotation for 3601/5546\n",
      "Reading annotation for 3801/5546\n",
      "Reading annotation for 4001/5546\n",
      "Reading annotation for 4201/5546\n",
      "Reading annotation for 4401/5546\n",
      "Reading annotation for 4601/5546\n",
      "Reading annotation for 4801/5546\n",
      "Reading annotation for 5001/5546\n",
      "Reading annotation for 5201/5546\n",
      "Reading annotation for 5401/5546\n",
      "oneraroom_easy_depth_8bits\n",
      "Writing person VOC results file\n",
      "Reading annotation for 1/5546\n",
      "Reading annotation for 201/5546\n",
      "Reading annotation for 401/5546\n",
      "Reading annotation for 601/5546\n",
      "Reading annotation for 801/5546\n",
      "Reading annotation for 1001/5546\n",
      "Reading annotation for 1201/5546\n",
      "Reading annotation for 1401/5546\n",
      "Reading annotation for 1601/5546\n",
      "Reading annotation for 1801/5546\n",
      "Reading annotation for 2001/5546\n",
      "Reading annotation for 2201/5546\n",
      "Reading annotation for 2401/5546\n",
      "Reading annotation for 2601/5546\n",
      "Reading annotation for 2801/5546\n",
      "Reading annotation for 3001/5546\n",
      "Reading annotation for 3201/5546\n",
      "Reading annotation for 3401/5546\n",
      "Reading annotation for 3601/5546\n",
      "Reading annotation for 3801/5546\n",
      "Reading annotation for 4001/5546\n",
      "Reading annotation for 4201/5546\n",
      "Reading annotation for 4401/5546\n",
      "Reading annotation for 4601/5546\n",
      "Reading annotation for 4801/5546\n",
      "Reading annotation for 5001/5546\n",
      "Reading annotation for 5201/5546\n",
      "Reading annotation for 5401/5546\n"
     ]
    }
   ],
   "source": [
    "cachedir = os.path.join(imdb_0._devkit_path, 'faster_rcnn', 'annotations_cache')\n",
    "use_07_metric = False\n",
    "if not os.path.isdir(basicPath):\n",
    "    os.mkdir(basicPath)\n",
    "cls='person'\n",
    "for key in myList:\n",
    "    print key\n",
    "    all_boxes = pickle.load( open( myList[key]['path'], \"rb\" ) )\n",
    "    for cls_ind, cls in enumerate(imdb_0.classes):\n",
    "        if cls == '__background__':\n",
    "            continue\n",
    "        print 'Writing {} VOC results file'.format(cls)\n",
    "        filename = imdb_0._get_voc_results_file_template().format(cls)\n",
    "        with open(filename, 'wt') as f:\n",
    "            for im_ind, index in enumerate(imdb_0.image_index):\n",
    "                dets = all_boxes[cls_ind][im_ind]\n",
    "                if dets == []:\n",
    "                    continue\n",
    "                # the VOCdevkit expects 1-based indices\n",
    "                for k in xrange(dets.shape[0]):\n",
    "                    f.write('{:s} {:.3f} {:.1f} {:.1f} {:.1f} {:.1f}\\n'.\n",
    "                        format(index, dets[k, -1],              # filename(stem), score\n",
    "                               dets[k, 0] + 1, dets[k, 1] + 1,  # x1, y1, x2, y2\n",
    "                               dets[k, 2] + 1, dets[k, 3] + 1))\n",
    "    \n",
    "    \n",
    "    for i, cls in enumerate(imdb_0._classes):\n",
    "        if cls == '__background__':\n",
    "            continue\n",
    "        filename = imdb_0._get_voc_results_file_template().format(cls)\n",
    "        rec, prec, ap, tp, fp, iou = jg_voc_eval(filename, annopath, imagesetfile, cls, cachedir,\n",
    "                                 ovthresh=0.5, use_07_metric = use_07_metric)\n",
    "        myList[key]['results'][cls]={'rec':rec,'prec':prec,'ap':ap,'tp':tp,'fp':fp,'iou':iou}\n",
    "\n",
    "\n"
   ]
  },
  {
   "cell_type": "code",
   "execution_count": 12,
   "metadata": {
    "collapsed": false,
    "scrolled": true
   },
   "outputs": [
    {
     "data": {
      "image/png": "[encoded data removed]",
      "text/plain": [
       "<matplotlib.figure.Figure at 0x7f66fffe8350>"
      ]
     },
     "metadata": {},
     "output_type": "display_data"
    }
   ],
   "source": [
    "# Plot Precision-Recall curve for each class\n",
    "plt.clf()\n",
    "i=0\n",
    "\n",
    "# x = np.linspace(0, 1, num=100, endpoint=True)\n",
    "# y = np.linspace(0, 1, num=100, endpoint=True)\n",
    "# plt.plot(x, y,  color='blue',marker='.') \n",
    "\n",
    "\n",
    "# todraw = ['oneraroom_easy_rgb','oneraroom_easy_depth_8bits','inout_x_on_oneraroom_easy_rgbd_10000','inout_y_on_oneraroom_easy_rgbd_100000','x_blackout']\n",
    "for key in myList:\n",
    "    if len(myList[key]['results']['person']['rec'])==0:\n",
    "        continue\n",
    "#     print key, np.mean(myList[key]['results']['person']['rec'])\n",
    "    idx = np.argwhere(np.diff(np.sign(myList[key]['results']['person']['rec'] - myList[key]['results']['person']['prec'])) != 0).reshape(-1) + 0\n",
    "    EER = myList[key]['results']['person']['rec'][idx]\n",
    "    max_id_EER=np.argmax(EER)\n",
    "    idx=idx[max_id_EER]\n",
    "    EER = myList[key]['results']['person']['rec'][idx]\n",
    "    plt.plot(myList[key]['results']['person']['rec'][idx], myList[key]['results']['person']['prec'][idx],  color=colors[i%len(colors)],marker='o')\n",
    "    \n",
    "    \n",
    "\n",
    "#     print EER\n",
    "    \n",
    "    \n",
    "    plt.plot(myList[key]['results']['person']['rec'], myList[key]['results']['person']['prec'], color=colors[i%len(colors)], lw=lw,\n",
    "         label=myList[key]['name']+' (AP={:.3f}, EER={:.3f})'.format(myList[key]['results']['person']['ap'],EER))\n",
    "        \n",
    "    i+=1\n",
    "#     +'(AP = {1:0.2f})'.format(myList[key]['results']['person']['ap'])\n",
    "\n",
    "plt.xlim([0.0, 1.0])\n",
    "plt.ylim([0.0, 1.05])\n",
    "plt.xlabel('$rappel$')\n",
    "plt.ylabel(r'$Pr\\acute{e}cision$')\n",
    "\n",
    "   \n",
    "    \n",
    "# plt.title('Extension of Precision-Recall curve to multi-class')\n",
    "plt.legend(loc=\"lower left\",prop={'size':10})\n",
    "\n",
    "# plt.plot([0.5], [0.8], color='color',marker='o')\n",
    "\n",
    "\n",
    "plt.show()"
   ]
  },
  {
   "cell_type": "code",
   "execution_count": 11,
   "metadata": {
    "collapsed": false
   },
   "outputs": [
    {
     "data": {
      "text/plain": [
       "array([   0, 2943, 2944])"
      ]
     },
     "execution_count": 11,
     "metadata": {},
     "output_type": "execute_result"
    }
   ],
   "source": [
    "idx"
   ]
  },
  {
   "cell_type": "markdown",
   "metadata": {},
   "source": [
    "~~reconstruire les fonctions pour avoir une liste pour chaque image de :\n",
    "~    TP TN FP FN precision recall mAP\n",
    "    \n",
    "ainsi on aura une liste par expert et une liste pour la fusion et on pourra trouver les images où la fusion s'avèrent utile. (notamment sur Inout pour expliquer le gain brut)"
   ]
  },
  {
   "cell_type": "code",
   "execution_count": 10,
   "metadata": {
    "collapsed": false
   },
   "outputs": [
    {
     "data": {
      "text/plain": [
       "array([ 0.        ,  0.68828523,  0.68828523])"
      ]
     },
     "execution_count": 10,
     "metadata": {},
     "output_type": "execute_result"
    }
   ],
   "source": [
    "myList[key]['results']['person']['rec'][idx]"
   ]
  },
  {
   "cell_type": "raw",
   "metadata": {},
   "source": [
    "analyse du X vs blackout qui colle à D :\n",
    "la perte de l'information couleur ne vient pas faire pire que le monosource D.\n",
    "---> intéressant vis à vis de la méthode Y qui devrait vraiment dégénérer\n"
   ]
  },
  {
   "cell_type": "code",
   "execution_count": null,
   "metadata": {
    "collapsed": false
   },
   "outputs": [],
   "source": [
    "for key in myList:\n",
    "    if len(myList[key]['results']['person']['rec'])==0:\n",
    "        continue\n",
    "#     print key, np.mean(myList[key]['results']['person']['rec'])\n",
    "    idx = np.argwhere(np.diff(np.sign(myList[key]['results']['person']['rec'] - myList[key]['results']['person']['prec'])) != 0).reshape(-1) + 0\n",
    "    EER = myList[key]['results']['person']['rec'][idx]\n",
    "    max_id_EER=np.argmax(EER)\n",
    "    idx=idx[max_id_EER]\n",
    "    EER = myList[key]['results']['person']['rec'][idx]\n",
    "\n",
    "\n"
   ]
  },
  {
   "cell_type": "code",
   "execution_count": 20,
   "metadata": {
    "collapsed": false
   },
   "outputs": [],
   "source": [
    "total_tp = sum(myList['oneraroom_easy_depth_8bits']['results']['person']['tp'])\n",
    "total_fp = sum(myList['oneraroom_easy_depth_8bits']['results']['person']['fp'])"
   ]
  },
  {
   "cell_type": "code",
   "execution_count": 24,
   "metadata": {
    "collapsed": false
   },
   "outputs": [],
   "source": [
    "not0iou=[iou for iou in myList['oneraroom_easy_depth_8bits']['results']['person']['iou'] if iou!=0]\n"
   ]
  },
  {
   "cell_type": "code",
   "execution_count": 27,
   "metadata": {
    "collapsed": false
   },
   "outputs": [
    {
     "data": {
      "text/plain": [
       "0.68396699"
      ]
     },
     "execution_count": 27,
     "metadata": {},
     "output_type": "execute_result"
    }
   ],
   "source": [
    "np.mean(not0iou)"
   ]
  },
  {
   "cell_type": "code",
   "execution_count": 21,
   "metadata": {
    "collapsed": false
   },
   "outputs": [
    {
     "data": {
      "text/plain": [
       "{'ap': 0.65431064416079021,\n",
       " 'fp': array([ 0.,  0.,  0., ...,  1.,  1.,  1.]),\n",
       " 'iou': array([ 0.73708206,  0.62969398,  0.64560032, ...,  0.        ,\n",
       "         0.        ,  0.        ], dtype=float32),\n",
       " 'prec': array([ 1.        ,  1.        ,  1.        , ...,  0.37946506,\n",
       "         0.37939959,  0.37933414]),\n",
       " 'rec': array([  3.39558574e-04,   6.79117148e-04,   1.01867572e-03, ...,\n",
       "          7.46689304e-01,   7.46689304e-01,   7.46689304e-01]),\n",
       " 'tp': array([ 1.,  1.,  1., ...,  0.,  0.,  0.])}"
      ]
     },
     "execution_count": 21,
     "metadata": {},
     "output_type": "execute_result"
    }
   ],
   "source": [
    "myList['oneraroom_easy_depth_8bits']['results']['person']"
   ]
  }
 ],
 "metadata": {
  "anaconda-cloud": {},
  "kernelspec": {
   "display_name": "Python [conda env:pyt3]",
   "language": "python",
   "name": "conda-env-pyt3-py"
  },
  "language_info": {
   "codemirror_mode": {
    "name": "ipython",
    "version": 2
   },
   "file_extension": ".py",
   "mimetype": "text/x-python",
   "name": "python",
   "nbconvert_exporter": "python",
   "pygments_lexer": "ipython2",
   "version": "2.7.12"
  }
 },
 "nbformat": 4,
 "nbformat_minor": 1
}

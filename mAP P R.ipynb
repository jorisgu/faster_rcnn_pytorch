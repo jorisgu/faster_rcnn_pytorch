{
 "cells": [
  {
   "cell_type": "code",
   "execution_count": 1,
   "metadata": {
    "collapsed": false
   },
   "outputs": [],
   "source": [
    "import os\n",
    "import torch\n",
    "import cv2\n",
    "import cPickle\n",
    "import numpy as np\n",
    "import errno\n",
    "import glob\n",
    "\n",
    "from faster_rcnn import network\n",
    "from faster_rcnn.faster_rcnn_x import FasterRCNN, FasterRCNN_x\n",
    "from faster_rcnn.utils.timer import Timer\n",
    "from faster_rcnn.fast_rcnn.nms_wrapper import nms\n",
    "\n",
    "from faster_rcnn.fast_rcnn.bbox_transform import bbox_transform_inv, clip_boxes\n",
    "from faster_rcnn.datasets.factory import get_imdb\n",
    "from faster_rcnn.fast_rcnn.config import cfg, cfg_from_file, get_output_dir\n",
    "from faster_rcnn.datasets.voc_eval import voc_eval\n",
    "from faster_rcnn.datasets.jg_voc_eval import voc_eval as jg_voc_eval\n",
    "import pickle"
   ]
  },
  {
   "cell_type": "code",
   "execution_count": 2,
   "metadata": {
    "collapsed": true
   },
   "outputs": [],
   "source": [
    "import matplotlib.pyplot as plt\n",
    "from sklearn.metrics import precision_recall_curve\n",
    "from sklearn.metrics import average_precision_score\n",
    "%matplotlib inline\n",
    "from itertools import cycle\n",
    "# setup plot details\n",
    "# colors = cycle(['navy', 'turquoise', 'darkorange', 'cornflowerblue', 'teal'])\n",
    "colors = ['red','navy', 'turquoise', 'darkorange', 'cornflowerblue', 'teal','blue','green','darkyellow']\n",
    "lw = 2\n"
   ]
  },
  {
   "cell_type": "code",
   "execution_count": 3,
   "metadata": {
    "collapsed": false
   },
   "outputs": [],
   "source": [
    "pytorchpath = '/home/jguerry/workspace/jg_dl/jg_pyt/'"
   ]
  },
  {
   "cell_type": "markdown",
   "metadata": {},
   "source": [
    "## INOUT"
   ]
  },
  {
   "cell_type": "code",
   "execution_count": 5,
   "metadata": {
    "collapsed": false
   },
   "outputs": [
    {
     "name": "stdout",
     "output_type": "stream",
     "text": [
      "<bound method inout.default_roidb of <faster_rcnn.datasets.inout.inout object at 0x7f30b441c090>>\n",
      "Remove empty annotations:  Done. [ 38 removed]\n",
      "inout_test_Depth\n",
      "inout_test_Images\n",
      "inout_u_train_on_test_rgbd_10000\n",
      "inout_u_train_on_test_rgbd_10000_blackout\n",
      "inout_x_train_on_test_rgbd_10000\n",
      "inout_x_train_on_test_rgbd_10000_blackout\n",
      "inout_y_train_on_inout_rgbd_100000\n",
      "inout_y_train_on_inout_rgbd_100000_blackout\n"
     ]
    }
   ],
   "source": [
    "pathBasic='/home/jguerry/workspace/jg_dl/jg_pyt/output/faster_rcnn_inout_exp/'\n",
    "cfg_file = pytorchpath+'experiments/cfgs/faster_rcnn_end2end_inout.yml'\n",
    "# load config\n",
    "\n",
    "Filter={'inout_test_Depth':'Depth',\n",
    "        'inout_test_Cube':'Cube',\n",
    "        'inout_test_Jet':'Jet',\n",
    "        }\n",
    "\n",
    "Filter={'inout_test_Images':'RGB',\n",
    "        'inout_test_Depth':'Depth',\n",
    "        'inout_u_train_on_test_rgbd_10000':'Fusion U',\n",
    "        'inout_u_train_on_test_rgbd_10000_blackout':'Fusion U *',\n",
    "        'inout_x_train_on_test_rgbd_10000':'Fusion X',\n",
    "        'inout_x_train_on_test_rgbd_10000_blackout':'Fusion X *',\n",
    "        'inout_y_train_on_inout_rgbd_100000':'Fusion Y',\n",
    "        'inout_y_train_on_inout_rgbd_100000_blackout':'Fusion Y *'}\n",
    "        \n",
    "\n",
    "\n",
    "\n",
    "cfg_from_file(cfg_file)\n",
    "\n",
    "imdb_test_name_0 = 'inout_test_Images'\n",
    "imdb_0 = get_imdb(imdb_test_name_0)\n",
    "annopath = os.path.join(imdb_0._data_path,'Annotations_pv', '{:s}.xml')\n",
    "imagesetfile = os.path.join(imdb_0._data_path,'ImageSets',imdb_0._image_set + '.txt')\n",
    "\n",
    "\n",
    "allDetectionFiles=sorted(glob.glob(pathBasic+\"*/*.pkl\"))\n",
    "\n",
    "myList={}\n",
    "for i,detection_file in enumerate(allDetectionFiles):\n",
    "    if 'jg_t' in detection_file:\n",
    "        continue\n",
    "    \n",
    "        \n",
    "    name = os.path.split(detection_file)[-1][:-4]\n",
    "    folder=os.path.split(os.path.split(detection_file)[0])[-1]\n",
    "    if folder not in Filter.keys():\n",
    "        continue\n",
    "    \n",
    "    \n",
    "\n",
    "    myList[Filter[folder]]={'path':detection_file,\n",
    "                  'name':Filter[folder],\n",
    "                  'results':{}}\n",
    "    print folder\n",
    "print 'Done.'\n",
    "# myList"
   ]
  },
  {
   "cell_type": "markdown",
   "metadata": {},
   "source": [
    "## ONERA.ROOM"
   ]
  },
  {
   "cell_type": "code",
   "execution_count": null,
   "metadata": {
    "collapsed": false
   },
   "outputs": [],
   "source": [
    "pathBasic='/home/jguerry/workspace/jg_dl/jg_pyt/output/faster_rcnn_oneraroom_exp/'\n",
    "cfg_file = pytorchpath+'experiments/cfgs/faster_rcnn_end2end_oneraroom.yml'\n",
    "# load config\n",
    "\n",
    "Filter={'oneraroom_easy_rgb':'RGB',\n",
    "        'oneraroom_easy_depth_8bits':'Depth',\n",
    "        'inout_u_train_on_oneraroom_easy_rgbd_10000':'Fusion U',\n",
    "        'inout_u_train_on_oneraroom_easy_rgbd_10000_blackout':'Fusion U *',\n",
    "        'inout_x_train_on_oneraroom_easy_rgbd_10000':'Fusion X',\n",
    "        'inout_x_train_on_oneraroom_easy_rgbd_10000_blackout':'Fusion X *',\n",
    "        'inout_y_train_on_oneraroom_easy_rgbd_100000':'Fusion Y',\n",
    "        'inout_y_train_on_oneraroom_easy_rgbd_100000_blackout':'Fusion Y *'}\n",
    "        \n",
    "# Filter={'oneraroom_easy_rgb':'RGB'}\n",
    "\n",
    "\n",
    "\n",
    "cfg_from_file(cfg_file)\n",
    "\n",
    "imdb_test_name_0 = 'oneraroom_easy_rgb'\n",
    "# imdb_0 = get_imdb(imdb_test_name_0)\n",
    "annopath = os.path.join(imdb_0._data_path,'annotations', '{:s}.xml')\n",
    "imagesetfile = os.path.join(imdb_0._data_path,'sets',imdb_0._image_set + '.txt')\n",
    "\n",
    "\n",
    "allDetectionFiles=sorted(glob.glob(pathBasic+\"*/*.pkl\"))\n",
    "\n",
    "myList={}\n",
    "for i,detection_file in enumerate(allDetectionFiles):\n",
    "    if 'jg_t' in detection_file:\n",
    "        continue\n",
    "    \n",
    "        \n",
    "    name = os.path.split(detection_file)[-1][:-4]\n",
    "    folder=os.path.split(os.path.split(detection_file)[0])[-1]\n",
    "    if folder not in Filter.keys():\n",
    "        continue\n",
    "    \n",
    "    \n",
    "\n",
    "    myList[Filter[folder]]={'path':detection_file,\n",
    "                  'name':Filter[folder],\n",
    "                  'results':{}}\n",
    "    print folder\n",
    "\n",
    "# myList"
   ]
  },
  {
   "cell_type": "code",
   "execution_count": 6,
   "metadata": {
    "collapsed": false,
    "scrolled": true
   },
   "outputs": [
    {
     "name": "stdout",
     "output_type": "stream",
     "text": [
      "Fusion X\n",
      "Fusion Y\n",
      "Fusion U\n",
      "Fusion X *\n",
      "RGB\n",
      "Depth\n",
      "Fusion Y *\n",
      "Fusion U *\n",
      "Done.\n"
     ]
    }
   ],
   "source": [
    "cachedir = os.path.join(imdb_0._devkit_path, 'faster_rcnn', 'annotations_cache')\n",
    "use_07_metric = False\n",
    "if not os.path.isdir(pathBasic):\n",
    "    os.mkdir(pathBasic)\n",
    "cls='person'\n",
    "for key in myList:\n",
    "    print key\n",
    "    all_boxes = pickle.load( open( myList[key]['path'], \"rb\" ) )\n",
    "    for cls_ind, cls in enumerate(imdb_0.classes):\n",
    "        if cls == '__background__':\n",
    "            continue\n",
    "        filename = imdb_0._get_voc_results_file_template().format(cls)\n",
    "        with open(filename, 'wt') as f:\n",
    "            for im_ind, index in enumerate(imdb_0.image_index):\n",
    "                dets = all_boxes[cls_ind][im_ind]\n",
    "                if len(dets) == 0:\n",
    "                    continue\n",
    "                # the VOCdevkit expects 1-based indices\n",
    "                for k in xrange(dets.shape[0]):\n",
    "                    f.write('{:s} {:.3f} {:.1f} {:.1f} {:.1f} {:.1f}\\n'.\n",
    "                        format(index, dets[k, -1],              # filename(stem), score\n",
    "                               dets[k, 0] + 1, dets[k, 1] + 1,  # x1, y1, x2, y2\n",
    "                               dets[k, 2] + 1, dets[k, 3] + 1))\n",
    "    \n",
    "    \n",
    "    for i, cls in enumerate(imdb_0._classes):\n",
    "        if cls == '__background__':\n",
    "            continue\n",
    "        filename = imdb_0._get_voc_results_file_template().format(cls)\n",
    "        rec, prec, ap, tp, fp, iou, npos, img_relative_tp = jg_voc_eval(filename, annopath, imagesetfile, \n",
    "                                                                        cls, cachedir,ovthresh=0.5, \n",
    "                                                                        use_07_metric = use_07_metric)\n",
    "        myList[key]['results'][cls]={'rec':rec,'prec':prec,'ap':ap,'tp':tp,'fp':fp,'iou':iou,\n",
    "                                     'npos':npos,'img_relative_tp':img_relative_tp}\n",
    "\n",
    "\n",
    "print 'Done.'"
   ]
  },
  {
   "cell_type": "code",
   "execution_count": 7,
   "metadata": {
    "collapsed": false
   },
   "outputs": [],
   "source": [
    "order=['RGB', 'Depth', 'Fusion U', 'Fusion X', 'Fusion Y', 'Fusion U *', 'Fusion X *', 'Fusion Y *']"
   ]
  },
  {
   "cell_type": "code",
   "execution_count": 8,
   "metadata": {
    "collapsed": false,
    "scrolled": false
   },
   "outputs": [
    {
     "name": "stdout",
     "output_type": "stream",
     "text": [
      "Fusion Y * O detection\n"
     ]
    },
    {
     "data": {
      "image/png": "[encoded data removed]",
      "text/plain": [
       "<matplotlib.figure.Figure at 0x7f304e8d47d0>"
      ]
     },
     "metadata": {},
     "output_type": "display_data"
    }
   ],
   "source": [
    "colors = ['red','black','navy', 'turquoise', 'darkorange', 'cornflowerblue', 'teal','blue','green','darkyellow']\n",
    "colors = ['red','black','navy', 'turquoise', 'cornflowerblue', 'darkorange', 'green','blue','green','darkyellow']\n",
    "\n",
    "plt.clf()\n",
    "i=0\n",
    "\n",
    "x = np.linspace(0, 1, num=100, endpoint=True)\n",
    "y = np.linspace(0, 1, num=100, endpoint=True)\n",
    "plt.plot(x, y,  color='0.85',markersize=1,marker=',') \n",
    "\n",
    "for key in order:\n",
    "    if key not in myList.keys():\n",
    "        continue\n",
    "    if len(myList[key]['results']['person']['rec'])==0:\n",
    "        print key,'O detection'\n",
    "        continue\n",
    "        \n",
    "    idx = np.argwhere(np.diff(np.sign(myList[key]['results']['person']['rec'] - myList[key]['results']['person']['prec'])) != 0).reshape(-1) + 0\n",
    "    EER = myList[key]['results']['person']['rec'][idx]\n",
    "    max_id_EER=np.argmax(EER)\n",
    "    idx=idx[max_id_EER]\n",
    "    EER = myList[key]['results']['person']['rec'][idx]\n",
    "    \n",
    "    \n",
    "    nd = len(myList[key]['results']['person']['tp'])\n",
    "    TP = sum(myList[key]['results']['person']['tp'])\n",
    "    FP = sum(myList[key]['results']['person']['fp'])\n",
    "    not0iou=[iou for iou in myList[key]['results']['person']['iou'] if iou!=0]\n",
    "    IoU = np.mean(not0iou)\n",
    "    precision = TP/(nd)\n",
    "    recall = TP/npos\n",
    "    F1=2*precision*recall/(precision+recall)\n",
    "    \n",
    "    myList[key]['results']['person']['meanIoU']=IoU\n",
    "    myList[key]['results']['person']['precision']=precision\n",
    "    myList[key]['results']['person']['recall']=recall\n",
    "    myList[key]['results']['person']['F1']=F1\n",
    "    myList[key]['results']['person']['EER']=EER\n",
    "    myList[key]['results']['person']['TP']=int(TP)\n",
    "    myList[key]['results']['person']['FP']=int(FP)\n",
    "    \n",
    "    \n",
    "    plt.plot(myList[key]['results']['person']['rec'][idx], myList[key]['results']['person']['prec'][idx],  \n",
    "             color=colors[i%len(colors)],markeredgecolor = 'none',markersize=10,marker=(5, 1, i**3*1.5))   \n",
    "    marker=None\n",
    "    lw=2\n",
    "    ls='--'\n",
    "    if '*' in key:\n",
    "        lw=1\n",
    "        ls=None\n",
    "    if 'Depth' in key:\n",
    "        lw=3\n",
    "#         marker='<'\n",
    "        \n",
    "    plt.plot(myList[key]['results']['person']['rec'], myList[key]['results']['person']['prec'],\n",
    "             color=colors[i%len(colors)], lw=lw, ls=ls,marker=marker,\n",
    "             label=myList[key]['name']+' (AP={:.3f}, EER={:.3f})'.format(myList[key]['results']['person']['ap'],\n",
    "                                                                         EER))\n",
    "        \n",
    "    i+=1\n",
    "#     +'(AP = {1:0.2f})'.format(myList[key]['results']['person']['ap'])\n",
    "\n",
    "plt.xlim([0.0, 1.0])\n",
    "plt.ylim([0.15, 1.01])\n",
    "plt.xlabel('$rappel$',fontsize=18)\n",
    "plt.ylabel(r'$Pr\\acute{e}cision$',fontsize=18)\n",
    "\n",
    "   \n",
    "    \n",
    "# plt.title('Extension of Precision-Recall curve to multi-class')\n",
    "plt.legend(loc=\"lower left\",prop={'size':10})\n",
    "\n",
    "# plt.plot([0.5], [0.8], color='color',marker='o')\n",
    "\n",
    "\n",
    "plt.show()"
   ]
  },
  {
   "cell_type": "markdown",
   "metadata": {},
   "source": [
    "## Affichages des indices de mesure de qualité"
   ]
  },
  {
   "cell_type": "code",
   "execution_count": 9,
   "metadata": {
    "collapsed": false
   },
   "outputs": [
    {
     "name": "stdout",
     "output_type": "stream",
     "text": [
      "RGB                        & \\textit{\\sout{RGB}-D}       & 0.760/0.979         & 0.963            & 0.929            &  0.794                  & 0.856          \\\\\n",
      "Depth                        & \\textit{\\sout{RGB}-D}       & 0.494/0.904         & 0.892            & 0.882            &  0.782                  & 0.638          \\\\\n",
      "Fusion U                        & \\textit{\\sout{RGB}-D}       & 0.470/0.993         & 0.980            & 0.943            &  0.796                  & 0.638          \\\\\n",
      "Fusion X                        & \\textit{\\sout{RGB}-D}       & 0.448/0.995         & 0.983            & 0.947            &  0.792                  & 0.618          \\\\\n",
      "Fusion Y                        & \\textit{\\sout{RGB}-D}       & 0.612/0.962         & 0.937            & 0.924            &  0.795                  & 0.748          \\\\\n",
      "Fusion U *                        & \\textit{\\sout{RGB}-D}       & 0.494/0.904         & 0.892            & 0.882            &  0.782                  & 0.638          \\\\\n",
      "Fusion X *                        & \\textit{\\sout{RGB}-D}       & 0.483/0.904         & 0.891            & 0.881            &  0.783                  & 0.630          \\\\\n",
      "Fusion Y * O detection\n"
     ]
    }
   ],
   "source": [
    "for key in order:\n",
    "    if key not in myList.keys():\n",
    "        continue\n",
    "    if len(myList[key]['results']['person']['rec'])==0:\n",
    "        print key,'O detection'\n",
    "        continue\n",
    "#     print 100*'_'\n",
    "        \n",
    "        \n",
    "#     print key+' :IoU={:.3f}, Precision={:.3f},Rappel={:.3f},F1={:.3f},EER={:.3f},TP={:d},FP={:d}'\\\n",
    "#     .format(myList[key]['results']['person']['meanIoU'], \n",
    "#             myList[key]['results']['person']['precision'],\n",
    "#             myList[key]['results']['person']['recall'],\n",
    "#             myList[key]['results']['person']['F1'],\n",
    "#             myList[key]['results']['person']['EER'], \n",
    "#             myList[key]['results']['person']['TP'],\n",
    "#             myList[key]['results']['person']['FP'])\n",
    "    print key+'                        & \\\\textit{{\\\\sout{{RGB}}-D}}       & {:.3f}/{:.3f}         & {:.3f}            & {:.3f}            &  {:.3f}                  & {:.3f}          \\\\\\\\'\\\n",
    "    .format(myList[key]['results']['person']['precision'], \n",
    "            myList[key]['results']['person']['recall'],\n",
    "            myList[key]['results']['person']['ap'],\n",
    "            myList[key]['results']['person']['EER'],\n",
    "            myList[key]['results']['person']['meanIoU'], \n",
    "            myList[key]['results']['person']['F1'])\n",
    "    "
   ]
  },
  {
   "cell_type": "markdown",
   "metadata": {},
   "source": [
    "## Selection des images"
   ]
  },
  {
   "cell_type": "code",
   "execution_count": 20,
   "metadata": {
    "collapsed": false
   },
   "outputs": [
    {
     "name": "stdout",
     "output_type": "stream",
     "text": [
      "Oh yeah! -> seq_1454085872.0090700090 [rgb: 2 , depth: 2 , X: 3 )]\n",
      "Oh yeah! -> seq_1454085876.0069664240 [rgb: 1 , depth: 1 , X: 2 )]\n",
      "Oh yeah! -> seq_1454085876.4104008510 [rgb: 1 , depth: 1 , X: 2 )]\n",
      "Oh yeah! -> seq_1454085869.5374701970 [rgb: 2 , depth: 2 , X: 3 )]\n"
     ]
    }
   ],
   "source": [
    "results_tp = {}\n",
    "for img in myList['RGB']['results']['person']['img_relative_tp']:\n",
    "    \n",
    "    tp_rgb = myList['RGB']['results']['person']['img_relative_tp'][img]\n",
    "    tp_depth = myList['Depth']['results']['person']['img_relative_tp'][img]\n",
    "    tp_U = myList['Fusion U']['results']['person']['img_relative_tp'][img]\n",
    "    tp_X = myList['Fusion X']['results']['person']['img_relative_tp'][img]\n",
    "    tp_Y = myList['Fusion Y']['results']['person']['img_relative_tp'][img]\n",
    "    tp_Ys = myList['Fusion Y *']['results']['person']['img_relative_tp'][img]\n",
    "    tp_Xs = myList['Fusion X *']['results']['person']['img_relative_tp'][img]\n",
    "    tp_Us = myList['Fusion U *']['results']['person']['img_relative_tp'][img]\n",
    "    \n",
    "    # si on a de la perte rgb\n",
    "    if tp_Y>tp_rgb and tp_Y>tp_depth:\n",
    "         print 'Oh yeah! ->',img, '[rgb:',tp_rgb,', depth:',tp_depth,', X:',tp_Y,')]'\n",
    "    \n",
    "#     results_tp[img]=tp_Y>tp_rgb and tp_Y>tp_depth\n",
    "#     if results_tp[img]:\n",
    "#         print 'Oh yeah! ->',img, '[',tp_Y,'>(',tp_rgb,',',tp_depth,')]'"
   ]
  },
  {
   "cell_type": "code",
   "execution_count": null,
   "metadata": {
    "collapsed": true
   },
   "outputs": [],
   "source": []
  }
 ],
 "metadata": {
  "anaconda-cloud": {},
  "kernelspec": {
   "display_name": "Python [conda env:pyt3]",
   "language": "python",
   "name": "conda-env-pyt3-py"
  },
  "language_info": {
   "codemirror_mode": {
    "name": "ipython",
    "version": 2
   },
   "file_extension": ".py",
   "mimetype": "text/x-python",
   "name": "python",
   "nbconvert_exporter": "python",
   "pygments_lexer": "ipython2",
   "version": "2.7.12"
  }
 },
 "nbformat": 4,
 "nbformat_minor": 1
}

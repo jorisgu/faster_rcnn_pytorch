{
 "cells": [
  {
   "cell_type": "code",
   "execution_count": null,
   "metadata": {
    "collapsed": false
   },
   "outputs": [],
   "source": [
    "import glob\n",
    "import os\n",
    "import matplotlib\n",
    "import numpy as np\n",
    "import matplotlib.pyplot as plt\n",
    "import matplotlib.image as mpl_image\n",
    "%matplotlib inline  \n",
    "import cv2\n",
    "import errno\n",
    "import operator\n",
    "\n",
    "!jupyter nbextension enable --py --sys-prefix widgetsnbextension\n",
    "def log_progress(sequence, title='', every=1, size=None, end_msg='', removeAtTheEnd=False):\n",
    "    from ipywidgets import IntProgress, HTML, VBox\n",
    "    from IPython.display import display\n",
    "\n",
    "    is_iterator = False\n",
    "    if size is None:\n",
    "        try:\n",
    "            size = len(sequence)\n",
    "        except TypeError:\n",
    "            is_iterator = True\n",
    "    if size is not None:\n",
    "        if every is None:\n",
    "            if size <= 200:\n",
    "                every = 1\n",
    "            else:\n",
    "                every = int(size / 200)     # every 0.5%\n",
    "    else:\n",
    "        assert every is not None, 'sequence is iterator, set every'\n",
    "\n",
    "    if is_iterator:\n",
    "        progress = IntProgress(min=0, max=1, value=1)\n",
    "        progress.bar_style = 'info'\n",
    "    else:\n",
    "        progress = IntProgress(min=0, max=size, value=0)\n",
    "    label = HTML()\n",
    "    box = VBox(children=[label, progress])\n",
    "    display(box)\n",
    "\n",
    "    index = 0\n",
    "    try:\n",
    "        for index, record in enumerate(sequence, 1):\n",
    "            if index == 1 or index % every == 0:\n",
    "                if is_iterator:\n",
    "                    label.value = '{index} / ?'.format(index=index)\n",
    "                else:\n",
    "                    progress.value = index\n",
    "                    if isinstance(sequence, dict):\n",
    "                        val = ''\n",
    "                    else:\n",
    "                        val=sequence[index-1]\n",
    "                            \n",
    "                    label.value = u'{title} : {value} ({index} / {size})'.format(\n",
    "                        title=title,\n",
    "                        value=val,\n",
    "                        index=index,\n",
    "                        size=size\n",
    "                    )\n",
    "            yield record\n",
    "    except:\n",
    "        progress.bar_style = 'danger'\n",
    "        raise\n",
    "    else:\n",
    "        progress.bar_style = 'success'\n",
    "        progress.value = index\n",
    "        label.value = end_msg\n",
    "        if removeAtTheEnd:\n",
    "            box.close()\n",
    "    "
   ]
  },
  {
   "cell_type": "code",
   "execution_count": null,
   "metadata": {
    "collapsed": false
   },
   "outputs": [],
   "source": [
    "# pathBasic='/home/jguerry/workspace/datasets/ONERA.ROOM'\n",
    "# allFolders=sorted(glob.glob(pathBasic+\"/RGBD/*\"))"
   ]
  },
  {
   "cell_type": "markdown",
   "metadata": {},
   "source": [
    "## Computing mean"
   ]
  },
  {
   "cell_type": "code",
   "execution_count": null,
   "metadata": {
    "collapsed": false
   },
   "outputs": [],
   "source": [
    "base='/home/jguerry/workspace/datasets/ONERA.ROOM/data_pv/rgb/2017-05-11-10-3*'\n",
    "print 'Globing...'\n",
    "imgs_rgb=sorted(glob.glob(base))\n",
    "print 'Globbed'"
   ]
  },
  {
   "cell_type": "code",
   "execution_count": null,
   "metadata": {
    "collapsed": false
   },
   "outputs": [],
   "source": [
    "base='/home/jguerry/workspace/datasets/ONERA.ROOM/data_pv/depth_8bits/2017-05-11-10-3*'\n",
    "print 'Globing...'\n",
    "imgs_depth=sorted(glob.glob(base))\n",
    "print 'Globbed'"
   ]
  },
  {
   "cell_type": "code",
   "execution_count": null,
   "metadata": {
    "collapsed": false
   },
   "outputs": [],
   "source": [
    "len(imgs_rgb)"
   ]
  },
  {
   "cell_type": "code",
   "execution_count": null,
   "metadata": {
    "collapsed": false
   },
   "outputs": [],
   "source": [
    "len(imgs_depth)"
   ]
  },
  {
   "cell_type": "code",
   "execution_count": null,
   "metadata": {
    "collapsed": false,
    "scrolled": true
   },
   "outputs": [],
   "source": [
    "means=np.zeros((len(imgs_rgb),1))\n",
    "# filenames=[]\n",
    "\n",
    "print 'Evaluating mean for the whole RGB set...'\n",
    "for i in log_progress(range(len(imgs_rgb)),title='Images', end_msg='Finished !'): \n",
    "    img=cv2.imread(imgs_rgb[i])\n",
    "    mean=img.mean()\n",
    "    \n",
    "    \n",
    "#     fileName_rgb = os.path.split(os.path.split(imgs_rgb[i])[-1])[-1]\n",
    "#     newfileName_rgb = pathFolder+'_'+fileName_rgb[:-4]\n",
    "    \n",
    "    means[i]=mean\n",
    "#     filenames.append(newfileName_rgb)\n",
    "print 'Finished.'"
   ]
  },
  {
   "cell_type": "markdown",
   "metadata": {},
   "source": [
    "## Plotting evolution of mean luminosity"
   ]
  },
  {
   "cell_type": "code",
   "execution_count": null,
   "metadata": {
    "collapsed": false
   },
   "outputs": [],
   "source": [
    "plt.plot(means)\n",
    "plt.ylabel('means')\n",
    "plt.show()"
   ]
  },
  {
   "cell_type": "markdown",
   "metadata": {},
   "source": [
    "## Selecting images"
   ]
  },
  {
   "cell_type": "code",
   "execution_count": null,
   "metadata": {
    "collapsed": false
   },
   "outputs": [],
   "source": [
    "selected_x=range(len(means))\n",
    "# resolution = 10000.\n",
    "\n",
    "# mean_max = np.max(means)\n",
    "# mean_min = np.min(means)\n",
    "\n",
    "# delta=mean_max-mean_min\n",
    "# step=delta/resolution\n",
    "# steps = np.arange(mean_max,mean_min,-step)\n",
    "\n",
    "# selected_x=[]\n",
    "# last_x=0\n",
    "# last_intensity=1000\n",
    "# for intensity in log_progress(steps,title='Intensity steps', end_msg='Finished !'): \n",
    "#     last_x=0\n",
    "# #     last_intensity=1000\n",
    "#     for x in range(last_x,len(means)):\n",
    "#         last_x=x\n",
    "#         if means[x]<intensity and intensity<last_intensity:\n",
    "#             selected_x.append(x)\n",
    "#             last_intensity=means[x]\n",
    "#             break\n",
    "            \n",
    "            \n",
    "# plt.plot(means[selected_x])\n",
    "# # plt.plot(selected_x)\n",
    "# plt.ylabel('means')\n",
    "# plt.show()\n",
    "\n",
    "# print 'Selected points :',len(selected_x)"
   ]
  },
  {
   "cell_type": "markdown",
   "metadata": {},
   "source": [
    "#### OpenCV style"
   ]
  },
  {
   "cell_type": "code",
   "execution_count": null,
   "metadata": {
    "collapsed": true
   },
   "outputs": [],
   "source": [
    "def add_curve(im,ratio,coeff_v=2):\n",
    "    \n",
    "    color_aoe=(0,125,0) #ao english\n",
    "    color_bg=(int(255*0.38),int(255*0.71),int(255*0.48)) #bud green 48%\t71%\t38% \n",
    "    color_bo=(int(255*0.0),int(255*0.33),int(255*0.80)) #Burnt Orange\t#CC5500\t80%\t33%\t0%\n",
    "    color_cp=(int(255*0.80),int(255*0.73),int(255*0.94)) #Cameo Pink\t#EFBBCC\t94%\t73%\t80%\n",
    "    \n",
    "    offset_v = 2\n",
    "    color_line=(0,255,255)\n",
    "    color_point_bg=color_cp\n",
    "    color_point=color_line #(20,20,250) #red\n",
    "\n",
    "\n",
    "    nb_pts=len(selected_x)\n",
    "    w = im.shape[1]\n",
    "    h = im.shape[0]\n",
    "\n",
    "    for i in range(len(selected_x)-1):\n",
    "\n",
    "        x0 = int(640./len(selected_x)*i)\n",
    "        y0 = int(h-coeff_v*means[selected_x[i],0]-offset_v)\n",
    "        x1 = int(640./len(selected_x)*(i+1))\n",
    "        y1 = int(h-coeff_v*means[selected_x[i+1],0]-offset_v)\n",
    "        cv2.line(im,(x0,y0),(x1,y1),color_line,2)#,lineType=8)\n",
    "\n",
    "\n",
    "\n",
    "    x_c = int(640./len(selected_x)*indice)\n",
    "    y_c = int(h-coeff_v*means[selected_x[indice],0]-offset_v)\n",
    "    text='{:.1f}'.format(mean_img)\n",
    "\n",
    "    cv2.circle(im, (x_c,y_c), 7, color_point_bg,thickness=-1)    \n",
    "    cv2.circle(im, (x_c,y_c), 5, color_point,thickness=-1)    \n",
    "    if ratio<0.8:\n",
    "        cv2.putText(im, text, (x_c+10,y_c-15), cv2.FONT_HERSHEY_SCRIPT_SIMPLEX, fontScale=1, thickness=5, color=color_point_bg)\n",
    "        cv2.putText(im, text, (x_c+10,y_c-15), cv2.FONT_HERSHEY_SCRIPT_SIMPLEX, fontScale=1, thickness=2, color=color_point)\n",
    "    else:\n",
    "\n",
    "        cv2.putText(im, text, (x_c-50,y_c-15), cv2.FONT_HERSHEY_SCRIPT_SIMPLEX, fontScale=1, thickness=5, color=color_point_bg)\n",
    "        cv2.putText(im, text, (x_c-50,y_c-15), cv2.FONT_HERSHEY_SCRIPT_SIMPLEX, fontScale=1, thickness=3, color=color_point)\n",
    "\n",
    "\n",
    "    return im"
   ]
  },
  {
   "cell_type": "code",
   "execution_count": null,
   "metadata": {
    "collapsed": false
   },
   "outputs": [],
   "source": [
    "ratio=0.2\n",
    "\n",
    "indice=int(ratio*len(selected_x))\n",
    "\n",
    "path_img = imgs_rgb[selected_x[indice]]\n",
    "mean_img = means[selected_x[indice],0]\n",
    "im = cv2.imread(path_img)\n",
    "\n",
    "\n",
    "# path_img = imgs_depth[selected_x[indice]]\n",
    "# im_gray = cv2.imread(path_img)\n",
    "# im = cv2.applyColorMap(im_gray, cv2.COLORMAP_OCEAN)\n",
    "\n",
    "\n",
    "im = add_curve(im,ratio)\n",
    "# im = rgbWithCurve(indice)\n",
    "fig, ax = plt.subplots()\n",
    "plt.axis('off')\n",
    "plt.imshow(cv2.cvtColor(im, cv2.COLOR_BGR2RGB))"
   ]
  },
  {
   "cell_type": "markdown",
   "metadata": {},
   "source": [
    "## Making the set"
   ]
  },
  {
   "cell_type": "markdown",
   "metadata": {
    "collapsed": false
   },
   "source": [
    "f = open('/home/jguerry/workspace/datasets/ONERA.ROOM/data_pv/sets/static_monotonous.txt', 'w')\n",
    "for i in selected_x:      \n",
    "    fileName_rgb = os.path.split(os.path.split(imgs_rgb[i])[-1])[-1]\n",
    "    newfileName_rgb = pathFolder+'_'+fileName_rgb[:-4]\n",
    "    f.write(newfileName_rgb+'\\n')\n",
    "print 'Finished.'\n",
    "f.close()"
   ]
  },
  {
   "cell_type": "code",
   "execution_count": null,
   "metadata": {
    "collapsed": false,
    "scrolled": true
   },
   "outputs": [],
   "source": [
    "img=cv2.imread(imgs_rgb[selected_x[100]])\n",
    "plt.imshow(cv2.cvtColor(img, cv2.COLOR_BGR2RGB))\n",
    "print(img.mean())"
   ]
  },
  {
   "cell_type": "markdown",
   "metadata": {},
   "source": [
    "## Load detections and show it"
   ]
  },
  {
   "cell_type": "code",
   "execution_count": null,
   "metadata": {
    "collapsed": true
   },
   "outputs": [],
   "source": [
    "import glob\n",
    "import os\n",
    "import matplotlib\n",
    "import numpy as np\n",
    "import matplotlib.pyplot as plt\n",
    "import matplotlib.image as mpl_image\n",
    "%matplotlib inline  \n",
    "import cv2\n",
    "import errno\n",
    "import operator\n",
    "\n",
    "import torch\n",
    "import cPickle\n",
    "\n",
    "from faster_rcnn import network\n",
    "from faster_rcnn.faster_rcnn import FasterRCNN, RPN\n",
    "from faster_rcnn.utils.timer import Timer\n",
    "from faster_rcnn.fast_rcnn.nms_wrapper import nms\n",
    "\n",
    "from faster_rcnn.fast_rcnn.bbox_transform import bbox_transform_inv, clip_boxes\n",
    "from faster_rcnn.datasets.factory import get_imdb\n",
    "from faster_rcnn.fast_rcnn.config import cfg, cfg_from_file, get_output_dir\n",
    "from faster_rcnn.datasets.jg_voc_eval import voc_eval_ecmr as jg_voc_eval"
   ]
  },
  {
   "cell_type": "code",
   "execution_count": null,
   "metadata": {
    "collapsed": false
   },
   "outputs": [],
   "source": [
    "# hyper-parameters\n",
    "# ------------\n",
    "# pytorchpath = '/data02/jguerry/jg_pyt/'\n",
    "pytorchpath = '/home/jguerry/workspace/jg_dl/jg_pyt/'\n",
    "cfg_file = pytorchpath+'experiments/cfgs/faster_rcnn_end2end_oneraroom.yml'\n",
    "output_dir = pytorchpath+'output/faster_rcnn_oneraroom_exp/'\n",
    "# load config\n",
    "cfg_from_file(cfg_file)\n",
    "cfg.keepEmptySamples=True\n",
    "use_07_metric = False\n",
    "\n",
    "detections={}\n",
    "\n",
    "# load data\n",
    "imdb_name = 'oneraroom_2017_dark_conditions_rgb'\n",
    "imdb = get_imdb(imdb_name)\n",
    "imdb.competition_mode(on=True)\n",
    "cachedir = os.path.join(imdb._devkit_path, 'faster_rcnn', 'annotations_cache')\n",
    "annopath = os.path.join(imdb._data_path,'annotations', '{:s}.xml')\n",
    "imagesetfile = os.path.join(imdb._data_path,'sets',imdb._image_set + '.txt')\n",
    "\n",
    "##### RGB detections\n",
    "imdb_name = 'oneraroom_2017_dark_conditions_rgb'\n",
    "imdb_model = 'oneraroom_2017_no_parking_rgb'\n",
    "save_name = imdb_model+'_on_'+imdb_name\n",
    "det_file = output_dir+imdb_name+'/detections_thresh_'+save_name+'.pkl'\n",
    "with open(det_file, 'rb') as f:\n",
    "    all_boxes = cPickle.load(f)\n",
    "detections[save_name]=all_boxes\n",
    "print save_name,len(all_boxes[1])\n",
    "\n",
    "#####  D Detections\n",
    "imdb_name = 'oneraroom_2017_dark_conditions_depth_8bits'\n",
    "imdb_model = 'oneraroom_2017_no_parking_depth_8bits'\n",
    "save_name = imdb_model+'_on_'+imdb_name\n",
    "det_file = output_dir+imdb_name+'/detections_thresh_'+save_name+'.pkl'\n",
    "with open(det_file, 'rb') as f:\n",
    "    all_boxes = cPickle.load(f)\n",
    "detections[save_name]=all_boxes\n",
    "print save_name,len(all_boxes[1])\n",
    "\n",
    "#####  X RGBD Detections\n",
    "# imdb_name = 'oneraroom_static_monotonous_rgb'\n",
    "save_name = 'oneraroom_x_thresh_2017_no_parking_on_2017_dark_conditions_rgbd_10000'\n",
    "det_file = output_dir+save_name+'/detections_'+save_name+'.pkl'\n",
    "with open(det_file, 'rb') as f:\n",
    "    all_boxes = cPickle.load(f)\n",
    "detections[save_name]=all_boxes\n",
    "print save_name,len(all_boxes[1])"
   ]
  },
  {
   "cell_type": "code",
   "execution_count": null,
   "metadata": {
    "collapsed": false
   },
   "outputs": [],
   "source": [
    "results={}\n",
    "\n",
    "for key, all_boxes in detections.iteritems():\n",
    "    print key\n",
    "\n",
    "    for cls_ind, cls in enumerate(imdb.classes):\n",
    "        if cls == '__background__':\n",
    "            continue\n",
    "        filename = imdb._get_voc_results_file_template().format(cls)\n",
    "        with open(filename, 'wt') as f:\n",
    "            print len(imdb.image_index)\n",
    "            for im_ind, index in enumerate(imdb.image_index):\n",
    "                dets = all_boxes[cls_ind][im_ind]\n",
    "                if len(dets) == 0:\n",
    "                    continue\n",
    "                # the VOCdevkit expects 1-based indices\n",
    "                for k in xrange(dets.shape[0]):\n",
    "                    f.write('{:s} {:.3f} {:.1f} {:.1f} {:.1f} {:.1f}\\n'.\n",
    "                        format(index, dets[k, -1],              # filename(stem), score\n",
    "                               dets[k, 0] + 1, dets[k, 1] + 1,  # x1, y1, x2, y2\n",
    "                               dets[k, 2] + 1, dets[k, 3] + 1))\n",
    "\n",
    "\n",
    "    for i, cls in enumerate(imdb._classes):\n",
    "        if cls == '__background__':\n",
    "            continue\n",
    "        filename = imdb._get_voc_results_file_template().format(cls)\n",
    "        print filename\n",
    "        rec, prec, ap, tp, fp, iou, npos, img_relative_tp, img_relative_fp,img_relative_d, new_all_boxes = jg_voc_eval(filename,\n",
    "                                                                                    annopath,\n",
    "                                                                                    imagesetfile,\n",
    "                                                                                    cls, \n",
    "                                                                                    cachedir,\n",
    "                                                                                    ovthresh=0.5,\n",
    "                                                                                    use_07_metric = use_07_metric)\n",
    "        results[key]={'rec':rec,'prec':prec,'ap':ap,'tp':tp,'fp':fp,'iou':iou,\n",
    "                                     'npos':npos,'img_relative_tp':img_relative_tp,\n",
    "                      'img_relative_fp':img_relative_fp,'img_relative_d':img_relative_d,\n",
    "                     'new_all_boxes':new_all_boxes}\n",
    "\n",
    "\n",
    "print 'Done.'"
   ]
  },
  {
   "cell_type": "code",
   "execution_count": null,
   "metadata": {
    "collapsed": false
   },
   "outputs": [],
   "source": [
    "len(all_boxes[1])"
   ]
  },
  {
   "cell_type": "code",
   "execution_count": null,
   "metadata": {
    "collapsed": false,
    "scrolled": true
   },
   "outputs": [],
   "source": [
    "for r in results:\n",
    "    print r,results[r]['ap']\n",
    "    print len(results[r]['img_relative_d'])"
   ]
  },
  {
   "cell_type": "code",
   "execution_count": null,
   "metadata": {
    "collapsed": false
   },
   "outputs": [],
   "source": [
    "for key in results:\n",
    "    results[key]['all_boxes_0']=[]\n",
    "    results[key]['all_boxes_1']=[]\n",
    "    img_boxes_sorted = sorted(results[key]['new_all_boxes'].items(), key=operator.itemgetter(0),reverse=False)\n",
    "    for (img,boxes) in img_boxes_sorted:\n",
    "        results[key]['all_boxes_0'].append([])\n",
    "        results[key]['all_boxes_1'].append([])\n",
    "        for box in boxes:\n",
    "            det = list(box[1])+ [box[0]] #[bbox,conf]\n",
    "            if box[2]==1:\n",
    "                results[key]['all_boxes_1'][-1].append(det)\n",
    "            elif box[2]==0:\n",
    "                results[key]['all_boxes_0'][-1].append(det)\n",
    "            else:\n",
    "                print 'shit'\n",
    "            \n",
    "            \n"
   ]
  },
  {
   "cell_type": "raw",
   "metadata": {
    "collapsed": false
   },
   "source": [
    "beta=-1.*0\n",
    "alpha=3\n",
    "gamma=alpha*3.\n",
    "for key in results:\n",
    "    results[key]['the_score']={}\n",
    "    for img in results[key]['img_relative_tp']:\n",
    "        results[key]['the_score'][img]=(alpha*results[key]['img_relative_tp'][img]+beta*results[key]['img_relative_fp'][img])/(gamma)#results[key]['img_relative_d'][img])\n",
    "        \n",
    "dict_img_relative_fp = results['oneraroom_2017_no_static_rgb_on_oneraroom_static_monotonous_rgb']['img_relative_fp']\n",
    "dict_img_relative_fp_sorted = sorted(dict_img_relative_fp.items(), key=operator.itemgetter(0),reverse=False)\n",
    "fp = []\n",
    "for (key,value) in dict_img_relative_fp_sorted:\n",
    "    fp.append(value)\n",
    "\n",
    "plt.plot(fp)\n",
    "plt.ylabel('the_score')\n",
    "plt.show()        "
   ]
  },
  {
   "cell_type": "markdown",
   "metadata": {},
   "source": [
    "## Visualisation"
   ]
  },
  {
   "cell_type": "code",
   "execution_count": null,
   "metadata": {
    "collapsed": true
   },
   "outputs": [],
   "source": [
    "def add_detections(im, dets, color=(10,100,10), color_bg=(100,255,100) ,class_name='person', thresh=0.5):\n",
    "    for i in range(np.minimum(10, dets.shape[0])):\n",
    "        bbox = tuple(int(np.round(x)) for x in dets[i, :4])\n",
    "        score = dets[i, -1]\n",
    "        if score > thresh:\n",
    "            cv2.rectangle(im, bbox[0:2], bbox[2:4], color, 4)\n",
    "            #cv2.putText(im, '%s: %.3f' % (class_name, score), (bbox[0], bbox[1] + 15), cv2.FONT_HERSHEY_PLAIN, 1.0, (0, 0, 255), thickness=1)\n",
    "            cv2.putText(im, '%.3f' % (score), (bbox[0]+5, bbox[3] - 10), cv2.FONT_HERSHEY_PLAIN, 1.0, color_bg, thickness=5)\n",
    "            cv2.putText(im, '%.3f' % (score), (bbox[0]+5, bbox[3] - 10), cv2.FONT_HERSHEY_PLAIN, 1.0, color, thickness=2)\n",
    "            \n",
    "    return im\n",
    "\n",
    "def add_detections_false(im, dets, color=(10,10,200), color_bg=(100,100,255) ,class_name='person', thresh=0.5):\n",
    "    for i in range(np.minimum(10, dets.shape[0])):\n",
    "        bbox = tuple(int(np.round(x)) for x in dets[i, :4])\n",
    "        score = dets[i, -1]\n",
    "        if score > thresh:\n",
    "            cv2.rectangle(im, bbox[0:2], bbox[2:4], color, 1)\n",
    "            #cv2.putText(im, '%s: %.3f' % (class_name, score), (bbox[0], bbox[1] + 15), cv2.FONT_HERSHEY_PLAIN, 1.0, (0, 0, 255), thickness=1)\n",
    "            cv2.putText(im, '%.3f' % (score), (bbox[0]+5, bbox[3] - 10), cv2.FONT_HERSHEY_PLAIN, 1.0, color_bg, thickness=3)\n",
    "            cv2.putText(im, '%.3f' % (score), (bbox[0]+5, bbox[3] - 10), cv2.FONT_HERSHEY_PLAIN, 1.0, color, thickness=1)\n",
    "            \n",
    "    return im\n",
    "\n",
    "def add_title(im, title, color=(10,100,10), color_bg=(100,255,100)):\n",
    "    color_bg=(int(255*0.42),int(255*0.84),int(255*0.91)) #Arylide Yellow\t#E9D66B\t91%\t84%\t42%\n",
    "    color=(int(255*.84),int(255*0.92),int(255*0.98)) #Antique White\t#FAEBD7\t98%\t92%\t84%\n",
    "    \n",
    "    color=(int(255*.80),int(255*0.67),int(255*0.13)) #Ball Blue\t#21ABCD\t13%\t67%\t80%\n",
    "    color=(int(255*.47),int(255*0.16),int(255*0.2)) #Catalina Blue\t#062A78\t2%\t16%\t47%\n",
    "    color_bg=(int(255*0.96),int(255*0.91),int(255*0.86)) #Azureish White\t#DBE9F4\t86%\t91%\t96%\n",
    "    \n",
    "    #cv2.putText(im, '%s: %.3f' % (class_name, score), (bbox[0], bbox[1] + 15), cv2.FONT_HERSHEY_PLAIN, 1.0, (0, 0, 255), thickness=1)\n",
    "    cv2.putText(im, title, (10, 40), cv2.FONT_HERSHEY_PLAIN, 2.5, color_bg, thickness=5)\n",
    "    cv2.putText(im, title, (10, 40), cv2.FONT_HERSHEY_PLAIN, 2.5, color, thickness=2)\n",
    "\n",
    "    return im\n",
    "\n",
    "def get_legend(w = 640,h = 480, bg_color=(int(255*0.2),int(255*0.0),int(255*0.0))):\n",
    "    \n",
    "    \n",
    "    \n",
    "    color_aoe=(0,125,0) #ao english\n",
    "    color_bg=(int(255*0.38),int(255*0.71),int(255*0.48)) #bud green 48%\t71%\t38% \n",
    "    color_bo=(int(255*0.0),int(255*0.33),int(255*0.80)) #Burnt Orange\t#CC5500\t80%\t33%\t0%\n",
    "    color_cp=(int(255*0.80),int(255*0.73),int(255*0.94)) #Cameo Pink\t#EFBBCC\t94%\t73%\t80%\n",
    "    \n",
    "    offset_v = 2\n",
    "    coeff_v = 2\n",
    "    color_line=(0,255,255)\n",
    "    color_point_bg=color_cp\n",
    "    color_point=color_line #(20,20,250) #red\n",
    "\n",
    "        \n",
    "    x0 = 30\n",
    "    x1 = x0+30\n",
    "    \n",
    "    y0 = 150\n",
    "    y1 = 240\n",
    "    y2 = 360\n",
    "    \n",
    "    im = np.ones((h,w,3))\n",
    "    im[:,:,0]=bg_color[0]\n",
    "    im[:,:,1]=bg_color[1]\n",
    "    im[:,:,2]=bg_color[2]\n",
    "    \n",
    "    # luminosity\n",
    "    cv2.line(im,(x0,y0),(x1,y0),color_line,2)#,lineType=8)\n",
    "    x_c = int((x0+x1)/2)\n",
    "    y_c = y0\n",
    "    cv2.circle(im, (x_c,y_c), 7, color_point_bg,thickness=-1)    \n",
    "    cv2.circle(im, (x_c,y_c), 5, color_point,thickness=-1)   \n",
    "    cv2.putText(im, 'RGB Image mean intensity', (x1+30,y0+5), cv2.FONT_HERSHEY_PLAIN, fontScale=2, thickness=5, color=color_point_bg)\n",
    "    cv2.putText(im, 'RGB Image mean intensity', (x1+30,y0+5), cv2.FONT_HERSHEY_PLAIN, fontScale=2, thickness=2, color=color_point)\n",
    "    \n",
    "    # true detection\n",
    "    color=(10,100,10)\n",
    "    color_bg=(100,255,100)\n",
    "    cv2.rectangle(im, (x0,y1),(x0+30,y1+30), color, 4)\n",
    "    cv2.putText(im, 'True Positive', (x0+30+30,y1+30), cv2.FONT_HERSHEY_PLAIN, fontScale=2, thickness=5, color=color_bg)\n",
    "    cv2.putText(im, 'True Positive', (x0+30+30,y1+30), cv2.FONT_HERSHEY_PLAIN, fontScale=2, thickness=2, color=color)\n",
    "    \n",
    "    # false detection\n",
    "    color=(10,10,200)\n",
    "    color_bg=(100,100,255)\n",
    "    cv2.rectangle(im, (x0,y2),(x0+30,y2+30), color, 2)\n",
    "    cv2.putText(im, 'False Positive', (x0+30+30,y2+30), cv2.FONT_HERSHEY_PLAIN, fontScale=2, thickness=5, color=color_bg)\n",
    "    cv2.putText(im, 'False Positive', (x0+30+30,y2+30), cv2.FONT_HERSHEY_PLAIN, fontScale=2, thickness=2, color=color)\n",
    "\n",
    "\n",
    "    return im"
   ]
  },
  {
   "cell_type": "code",
   "execution_count": null,
   "metadata": {
    "collapsed": false
   },
   "outputs": [],
   "source": [
    "len(results[key]['all_boxes_1'])"
   ]
  },
  {
   "cell_type": "code",
   "execution_count": null,
   "metadata": {
    "collapsed": false
   },
   "outputs": [],
   "source": [
    "ratio=0\n",
    "\n",
    "indice=5#int(ratio*len(selected_x))\n",
    "\n",
    "# rgb\n",
    "path_img = imgs_rgb[selected_x[indice]]\n",
    "mean_img = means[selected_x[indice],0]\n",
    "im_rgb = cv2.imread(path_img)\n",
    "#depth\n",
    "path_img = imgs_depth[selected_x[indice]]\n",
    "im_gray = cv2.imread(path_img)\n",
    "#composite\n",
    "im_compo = np.zeros(im_rgb.shape, np.uint8)\n",
    "im_compo = cv2.addWeighted(im_gray, 1, im_rgb, ratio+0.1, 0)\n",
    "\n",
    "# im_norm = np.zeros(im_rgb.shape, np.uint8)\n",
    "# cv2.normalize(im_rgb, im_norm, alpha=0, beta=255, norm_type=cv2.NORM_MINMAX)\n",
    "\n",
    "######################################################################\n",
    "key='oneraroom_2017_no_parking_rgb_on_oneraroom_2017_dark_conditions_rgb'\n",
    "im_rgb = add_detections_false(im_rgb, np.array(results[key]['all_boxes_0'][indice]))\n",
    "im_rgb = add_detections(im_rgb, np.array(results[key]['all_boxes_1'][indice]))\n",
    "im_rgb = add_curve(im_rgb,ratio,1)\n",
    "img_rgb= add_title(im_rgb,'RGB Expert')\n",
    "\n",
    "key='oneraroom_2017_no_parking_depth_8bits_on_oneraroom_2017_dark_conditions_depth_8bits'\n",
    "im_depth = cv2.applyColorMap(im_gray, cv2.COLORMAP_OCEAN)\n",
    "im_depth = add_detections_false(im_depth, np.array(results[key]['all_boxes_0'][indice]))\n",
    "im_depth = add_detections(im_depth, np.array(results[key]['all_boxes_1'][indice]))\n",
    "# im_depth = add_curve(im_depth,ratio)\n",
    "im_depth= add_title(im_depth,'Depth Expert')\n",
    "\n",
    "# key='oneraroom_x_2017_no_static_on_static_monotonous_rgbd_10000'\n",
    "key='oneraroom_x_thresh_2017_no_parking_on_2017_dark_conditions_rgbd_10000'\n",
    "im_compo = add_detections_false(im_compo, np.array(results[key]['all_boxes_0'][indice]))\n",
    "im_compo = add_detections(im_compo, np.array(results[key]['all_boxes_1'][indice]))\n",
    "im_compo = add_curve(im_compo,ratio,1)\n",
    "im_compo= add_title(im_compo,'X Fusion')\n",
    "\n",
    "im_legend = get_legend()\n",
    "######################################################################\n",
    "\n",
    "im_full= 255*np.ones((2*im_rgb.shape[0],2*im_rgb.shape[1],3), np.uint8)\n",
    "im_full[0:im_rgb.shape[0],0:im_rgb.shape[1],:]=im_rgb\n",
    "im_full[:im_rgb.shape[0],im_rgb.shape[1]:,:]=im_depth\n",
    "im_full[im_rgb.shape[0]:,:im_rgb.shape[1],:]=im_compo\n",
    "im_full[im_rgb.shape[0]:,im_rgb.shape[1]:,:]=im_legend\n",
    "\n",
    "# bg_color = (int(255*0.93),int(255*0.68),int(255*0.36))#Blue Jeans\t#5DADEC\t36%\t68%\t93%\n",
    "bg_color = (int(255*0.2),int(255*0.0),int(255*0.0))\n",
    "cv2.line(im_full,(im_rgb.shape[1],0),(im_rgb.shape[1],im_full.shape[0]),bg_color,10)\n",
    "cv2.line(im_full,(0,im_rgb.shape[0]),(im_full.shape[1],im_rgb.shape[0]),bg_color,10)\n",
    "\n",
    "size=2\n",
    "fig, ax = plt.subplots(figsize=(size*4, size*3))\n",
    "plt.axis('off')\n",
    "plt.imshow(cv2.cvtColor(im_full, cv2.COLOR_BGR2RGB),aspect='auto')"
   ]
  },
  {
   "cell_type": "markdown",
   "metadata": {},
   "source": [
    "## Make video"
   ]
  },
  {
   "cell_type": "markdown",
   "metadata": {},
   "source": [
    "4 screens : RGB, D, Composite (gray, depth, ???), explanations (legend, analyse)\n",
    "Il faut donc 4 fonctions qui retourne chaque composante pour construire l'image finale à mettre dans la vidéo"
   ]
  },
  {
   "cell_type": "code",
   "execution_count": null,
   "metadata": {
    "collapsed": false
   },
   "outputs": [],
   "source": [
    "fourcc = cv2.VideoWriter_fourcc(*'MJPG')\n",
    "out = cv2.VideoWriter(\"/home/jguerry/Downloads/ecmr_2017_dark_conditions.avi\", fourcc, 20, (2*640,2*480),True)\n",
    "out.isOpened()"
   ]
  },
  {
   "cell_type": "code",
   "execution_count": null,
   "metadata": {
    "collapsed": false
   },
   "outputs": [],
   "source": [
    "for indice in log_progress(range(len(selected_x)),title='Frames', end_msg='Finished !'): \n",
    "    # rgb\n",
    "    path_img = imgs_rgb[selected_x[indice]]\n",
    "    mean_img = means[selected_x[indice],0]\n",
    "    im_rgb = cv2.imread(path_img)\n",
    "    #depth\n",
    "    path_img = imgs_depth[selected_x[indice]]\n",
    "    im_gray = cv2.imread(path_img)\n",
    "    #composite\n",
    "    im_compo = np.zeros(im_rgb.shape, np.uint8)\n",
    "    im_compo = cv2.addWeighted(im_gray, 1, im_rgb, ratio+0.1, 0)\n",
    "\n",
    "    # im_norm = np.zeros(im_rgb.shape, np.uint8)\n",
    "    # cv2.normalize(im_rgb, im_norm, alpha=0, beta=255, norm_type=cv2.NORM_MINMAX)\n",
    "\n",
    "    \n",
    "    ratio=1.*indice/len(selected_x)\n",
    "    ######################################################################\n",
    "    key='oneraroom_2017_no_parking_rgb_on_oneraroom_2017_dark_conditions_rgb'\n",
    "    im_rgb = add_detections_false(im_rgb, np.array(results[key]['all_boxes_0'][indice]))\n",
    "    im_rgb = add_detections(im_rgb, np.array(results[key]['all_boxes_1'][indice]))\n",
    "    im_rgb = add_curve(im_rgb,ratio,1)\n",
    "    img_rgb= add_title(im_rgb,'RGB Expert')\n",
    "\n",
    "    key='oneraroom_2017_no_parking_depth_8bits_on_oneraroom_2017_dark_conditions_depth_8bits'\n",
    "    im_depth = cv2.applyColorMap(im_gray, cv2.COLORMAP_OCEAN)\n",
    "    im_depth = add_detections_false(im_depth, np.array(results[key]['all_boxes_0'][indice]))\n",
    "    im_depth = add_detections(im_depth, np.array(results[key]['all_boxes_1'][indice]))\n",
    "    # im_depth = add_curve(im_depth,ratio)\n",
    "    im_depth= add_title(im_depth,'Depth Expert')\n",
    "\n",
    "    # key='oneraroom_x_2017_no_static_on_static_monotonous_rgbd_10000'\n",
    "    key='oneraroom_x_thresh_2017_no_parking_on_2017_dark_conditions_rgbd_10000'\n",
    "    im_compo = add_detections_false(im_compo, np.array(results[key]['all_boxes_0'][indice]))\n",
    "    im_compo = add_detections(im_compo, np.array(results[key]['all_boxes_1'][indice]))\n",
    "    im_compo = add_curve(im_compo,ratio,1)\n",
    "    im_compo= add_title(im_compo,'X Fusion')\n",
    "\n",
    "    im_legend = get_legend()\n",
    "    ######################################################################\n",
    "\n",
    "    im_full= 200*np.ones((2*im_rgb.shape[0],2*im_rgb.shape[1],3), np.uint8)\n",
    "    im_full[0:im_rgb.shape[0],0:im_rgb.shape[1],:]=im_rgb\n",
    "    im_full[:im_rgb.shape[0],im_rgb.shape[1]:,:]=im_depth\n",
    "    im_full[im_rgb.shape[0]:,:im_rgb.shape[1],:]=im_compo\n",
    "    im_full[im_rgb.shape[0]:,im_rgb.shape[1]:,:]=im_legend\n",
    "\n",
    "    cv2.line(im_full,(im_rgb.shape[1],0),(im_rgb.shape[1],im_full.shape[0]),(200,200,200),10)\n",
    "    cv2.line(im_full,(0,im_rgb.shape[0]),(im_full.shape[1],im_rgb.shape[0]),(200,200,200),10)\n",
    "    \n",
    "    #     if indice<10:\n",
    "    #         for i in range(3):\n",
    "    #             out.write(im_full)\n",
    "    #     elif indice>350:\n",
    "    #         for i in range(2):\n",
    "    #             out.write(im_full)\n",
    "    #     elif indice>410:\n",
    "    #         for i in range(3):\n",
    "    #             out.write(im_full)\n",
    "    #     else:\n",
    "    #         out.write(im_full)\n",
    "    out.write(im_full)\n",
    "out.release()"
   ]
  },
  {
   "cell_type": "code",
   "execution_count": null,
   "metadata": {
    "collapsed": false
   },
   "outputs": [],
   "source": [
    "indice"
   ]
  },
  {
   "cell_type": "code",
   "execution_count": null,
   "metadata": {
    "collapsed": true
   },
   "outputs": [],
   "source": []
  }
 ],
 "metadata": {
  "anaconda-cloud": {},
  "kernelspec": {
   "display_name": "Python [conda env:pyt3]",
   "language": "python",
   "name": "conda-env-pyt3-py"
  },
  "language_info": {
   "codemirror_mode": {
    "name": "ipython",
    "version": 2
   },
   "file_extension": ".py",
   "mimetype": "text/x-python",
   "name": "python",
   "nbconvert_exporter": "python",
   "pygments_lexer": "ipython2",
   "version": "2.7.12"
  },
  "widgets": {
   "state": {
    "2cf0db5ae228402cbcc1b525a3dbb05e": {
     "views": [
      {
       "cell_index": 31
      }
     ]
    },
    "f1eccacf2b164bf1a24ab08626467473": {
     "views": [
      {
       "cell_index": 7
      }
     ]
    }
   },
   "version": "1.2.0"
  }
 },
 "nbformat": 4,
 "nbformat_minor": 1
}

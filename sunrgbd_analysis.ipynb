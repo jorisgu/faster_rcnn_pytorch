{
 "cells": [
  {
   "cell_type": "code",
   "execution_count": 1,
   "metadata": {
    "collapsed": false
   },
   "outputs": [
    {
     "name": "stdout",
     "output_type": "stream",
     "text": [
      "<bound method sunrgbd.default_roidb of <faster_rcnn.datasets.sunrgbd.sunrgbd object at 0x7f442b6a8910>>\n"
     ]
    }
   ],
   "source": [
    "import os\n",
    "import numpy as np\n",
    "from datetime import datetime\n",
    "\n",
    "import faster_rcnn.roi_data_layer.roidb as rdl_roidb\n",
    "from faster_rcnn.datasets.factory import get_imdb\n",
    "from faster_rcnn.fast_rcnn.config import cfg, cfg_from_file\n",
    "\n",
    "def log_print(text, color=None, on_color=None, attrs=None):\n",
    "    if cprint is not None:\n",
    "        cprint(text, color=color, on_color=on_color, attrs=attrs)\n",
    "    else:\n",
    "        print(text)\n",
    "\n",
    "\n",
    "\n",
    "# hyper-parameters\n",
    "# ------------\n",
    "imdb_name = 'sunrgbd_train_rgb_i_100_8bits' #train\n",
    "cfg_file = 'experiments/cfgs/faster_rcnn_end2end_sunrgbd.yml'\n",
    "pretrained_model = 'data/pretrained_model/VGG_imagenet.npy'\n",
    "output_dir = 'models/sunrgbd_rgb100/'\n",
    "\n",
    "\n",
    "\n",
    "\n",
    "# load config\n",
    "cfg_from_file(cfg_file)\n",
    "\n",
    "# load data\n",
    "imdb = get_imdb(imdb_name)"
   ]
  },
  {
   "cell_type": "code",
   "execution_count": 2,
   "metadata": {
    "collapsed": false
   },
   "outputs": [
    {
     "name": "stdout",
     "output_type": "stream",
     "text": [
      "sunrgbd_train_rgb_i_100_8bits gt roidb loaded from /c16/THESE.JORIS/datasets/SUNRGBD_pv/faster_rcnn/cache/sunrgbd_train_rgb_i_100_8bits_gt_roidb.pkl\n"
     ]
    }
   ],
   "source": [
    "gt_roidb=imdb.gt_roidb()"
   ]
  },
  {
   "cell_type": "code",
   "execution_count": 3,
   "metadata": {
    "collapsed": false,
    "scrolled": false
   },
   "outputs": [
    {
     "name": "stdout",
     "output_type": "stream",
     "text": [
      "shelves 1\n",
      "shower_curtain 11\n",
      "window 32\n",
      "bathtub 134\n",
      "fridge 183\n",
      "toilet 205\n",
      "curtain 230\n",
      "towel 262\n",
      "bag 269\n",
      "blinds 326\n",
      "tv 357\n",
      "mirror 446\n",
      "sink 530\n",
      "bookshelf 703\n",
      "night_stand 869\n",
      "paper 1280\n",
      "books 1397\n",
      "bed 1512\n",
      "box 1595\n",
      "picture 1765\n",
      "dresser 1862\n",
      "door 2068\n",
      "counter 2109\n",
      "person 2411\n",
      "whiteboard 2461\n",
      "sofa 2687\n",
      "cabinet 3046\n",
      "lamp 4639\n",
      "desk 5474\n",
      "pillow 8988\n",
      "table 15706\n",
      "chair 145894\n"
     ]
    }
   ],
   "source": [
    "# print \"analysing...\"\n",
    "myClassesDict = {}\n",
    "for img_rois in gt_roidb:\n",
    "    for id_cls in img_rois['gt_classes']:\n",
    "        myClassesDict[imdb._classes[id_cls]] = myClassesDict.get(imdb._classes[id_cls], 0) + 1\n",
    "        \n",
    "a = sorted(myClassesDict, key=myClassesDict.get)\n",
    "for cls in a:\n",
    "    print cls, myClassesDict[cls]\n",
    "# print myClassesDict\n",
    "# print \"analysed !\""
   ]
  },
  {
   "cell_type": "code",
   "execution_count": 4,
   "metadata": {
    "collapsed": false
   },
   "outputs": [
    {
     "name": "stdout",
     "output_type": "stream",
     "text": [
      "shelves 1e-05\n",
      "shower_curtain 6e-05\n",
      "window 0.00016\n",
      "bathtub 0.00065\n",
      "fridge 0.00088\n",
      "toilet 0.00099\n",
      "curtain 0.00111\n",
      "towel 0.00126\n",
      "bag 0.00129\n",
      "blinds 0.00157\n",
      "tv 0.00171\n",
      "mirror 0.00214\n",
      "sink 0.00254\n",
      "bookshelf 0.00337\n",
      "night_stand 0.00416\n",
      "paper 0.00612\n",
      "books 0.00668\n",
      "bed 0.00723\n",
      "box 0.00763\n",
      "picture 0.00844\n",
      "dresser 0.0089\n",
      "door 0.00988\n",
      "counter 0.01008\n",
      "person 0.01152\n",
      "whiteboard 0.01176\n",
      "sofa 0.01284\n",
      "cabinet 0.01455\n",
      "lamp 0.02216\n",
      "desk 0.02614\n",
      "pillow 0.04292\n",
      "table 0.075\n",
      "chair 0.69656\n"
     ]
    }
   ],
   "source": [
    "myFreqDict = {}\n",
    "total = sum(myClassesDict.values())\n",
    "for cls in myClassesDict.keys():\n",
    "    myFreqDict[cls]=round(float(myClassesDict[cls])/total,5) + 1e-05\n",
    "        \n",
    "b = sorted(myFreqDict, key=myFreqDict.get)\n",
    "ind_med_freq = (len(b)-1)/2\n",
    "medianFreq = myFreqDict[b[ind_med_freq]]\n",
    "for cls in b:\n",
    "    print cls, myFreqDict[cls]\n",
    "\n",
    "# myFreqDict"
   ]
  },
  {
   "cell_type": "code",
   "execution_count": 5,
   "metadata": {
    "collapsed": false
   },
   "outputs": [
    {
     "name": "stdout",
     "output_type": "stream",
     "text": [
      "classes_weights_dict['toilet'] = 7.182\n",
      "classes_weights_dict['whiteboard'] = 1.52\n",
      "classes_weights_dict['night_stand'] = 2.471\n",
      "classes_weights_dict['paper'] = 2.0\n",
      "classes_weights_dict['mirror'] = 3.86\n",
      "classes_weights_dict['table'] = 1.082\n",
      "classes_weights_dict['chair'] = 1.009\n",
      "classes_weights_dict['bag'] = 5.744\n",
      "classes_weights_dict['tv'] = 4.579\n",
      "classes_weights_dict['window'] = 39.25\n",
      "classes_weights_dict['lamp'] = 1.276\n",
      "classes_weights_dict['curtain'] = 6.514\n",
      "classes_weights_dict['blinds'] = 4.898\n",
      "classes_weights_dict['dresser'] = 1.688\n",
      "classes_weights_dict['picture'] = 1.725\n",
      "classes_weights_dict['door'] = 1.619\n",
      "classes_weights_dict['shower_curtain'] = 103.0\n",
      "classes_weights_dict['fridge'] = 7.955\n",
      "classes_weights_dict['cabinet'] = 1.421\n",
      "classes_weights_dict['sink'] = 3.409\n",
      "classes_weights_dict['desk'] = 1.234\n",
      "classes_weights_dict['bookshelf'] = 2.816\n",
      "classes_weights_dict['box'] = 1.802\n",
      "classes_weights_dict['towel'] = 5.857\n",
      "classes_weights_dict['shelves'] = 613.0\n",
      "classes_weights_dict['sofa'] = 1.477\n",
      "classes_weights_dict['counter'] = 1.607\n",
      "classes_weights_dict['bed'] = 1.846\n",
      "classes_weights_dict['person'] = 1.531\n",
      "classes_weights_dict['books'] = 1.916\n",
      "classes_weights_dict['bathtub'] = 10.415\n",
      "classes_weights_dict['pillow'] = 1.143\n"
     ]
    }
   ],
   "source": [
    "myWeightsDict = {}\n",
    "for cls in myClassesDict.keys():\n",
    "    myWeightsDict[cls] = 1+round(medianFreq/myFreqDict[cls],3)\n",
    "    print 'classes_weights_dict[\\''+cls+'\\'] = '+str(myWeightsDict[cls])"
   ]
  },
  {
   "cell_type": "code",
   "execution_count": 6,
   "metadata": {
    "collapsed": true
   },
   "outputs": [],
   "source": [
    "_classes = ('__background__', # always index 0\n",
    "                         #'wall',\n",
    "                        #'floor',\n",
    "                        'cabinet',\n",
    "                        'bed',\n",
    "                        'chair',\n",
    "                        'sofa',\n",
    "                        'table',\n",
    "                        'door',\n",
    "                        'window',\n",
    "                        'bookshelf',\n",
    "                        'picture',\n",
    "                        'counter',\n",
    "                        'blinds',\n",
    "                        'desk',\n",
    "                        'shelves',\n",
    "                        'curtain',\n",
    "                        'dresser',\n",
    "                        'pillow',\n",
    "                        'mirror',\n",
    "                        #'floor_mat',\n",
    "                        #'clothes',\n",
    "                        #'ceiling',\n",
    "                        'books',\n",
    "                        'fridge',\n",
    "                        'tv',\n",
    "                        'paper',\n",
    "                        'towel',\n",
    "                        'shower_curtain',\n",
    "                        'box',\n",
    "                        'whiteboard',\n",
    "                        'person',\n",
    "                        'night_stand',\n",
    "                        'toilet',\n",
    "                        'sink',\n",
    "                        'lamp',\n",
    "                        'bathtub',\n",
    "                        'bag')\n",
    "_class_to_ind = dict(zip(_classes, xrange(len(_classes))))"
   ]
  },
  {
   "cell_type": "code",
   "execution_count": 7,
   "metadata": {
    "collapsed": false
   },
   "outputs": [
    {
     "name": "stdout",
     "output_type": "stream",
     "text": [
      "cabinet 1.421\n",
      "bed 1.846\n",
      "chair 1.009\n",
      "sofa 1.477\n",
      "table 1.082\n",
      "door 1.619\n",
      "window 39.25\n",
      "bookshelf 2.816\n",
      "picture 1.725\n",
      "counter 1.607\n",
      "blinds 4.898\n",
      "desk 1.234\n",
      "shelves 613.0\n",
      "curtain 6.514\n",
      "dresser 1.688\n",
      "pillow 1.143\n",
      "mirror 3.86\n",
      "books 1.916\n",
      "fridge 7.955\n",
      "tv 4.579\n",
      "paper 2.0\n",
      "towel 5.857\n",
      "shower_curtain 103.0\n",
      "box 1.802\n",
      "whiteboard 1.52\n",
      "person 1.531\n",
      "night_stand 2.471\n",
      "toilet 7.182\n",
      "sink 3.409\n",
      "lamp 1.276\n",
      "bathtub 10.415\n",
      "bag 5.744\n",
      "[-1, 1.421, 1.846, 1.009, 1.4769999999999999, 1.082, 1.619, 39.25, 2.816, 1.725, 1.607, 4.898, 1.234, 613.0, 6.514, 1.688, 1.143, 3.86, 1.916, 7.955, 4.579000000000001, 2.0, 5.857, 103.0, 1.802, 1.52, 1.5310000000000001, 2.471, 7.182, 3.409, 1.276, 10.415, 5.744]\n"
     ]
    }
   ],
   "source": [
    "weights = [-1]\n",
    "for i in range(1,len(_classes)):\n",
    "    print _classes[i],myWeightsDict[_classes[i]]\n",
    "    weights= weights+[myWeightsDict[_classes[i]]]\n",
    "print weights"
   ]
  },
  {
   "cell_type": "code",
   "execution_count": 8,
   "metadata": {
    "collapsed": false
   },
   "outputs": [
    {
     "data": {
      "text/plain": [
       "33"
      ]
     },
     "execution_count": 8,
     "metadata": {},
     "output_type": "execute_result"
    }
   ],
   "source": [
    "len(_classes)"
   ]
  },
  {
   "cell_type": "code",
   "execution_count": 9,
   "metadata": {
    "collapsed": false
   },
   "outputs": [
    {
     "data": {
      "text/plain": [
       "33"
      ]
     },
     "execution_count": 9,
     "metadata": {},
     "output_type": "execute_result"
    }
   ],
   "source": [
    "len(weights)"
   ]
  },
  {
   "cell_type": "code",
   "execution_count": null,
   "metadata": {
    "collapsed": true
   },
   "outputs": [],
   "source": []
  }
 ],
 "metadata": {
  "anaconda-cloud": {},
  "kernelspec": {
   "display_name": "Python [conda env:pyt3]",
   "language": "python",
   "name": "conda-env-pyt3-py"
  },
  "language_info": {
   "codemirror_mode": {
    "name": "ipython",
    "version": 2
   },
   "file_extension": ".py",
   "mimetype": "text/x-python",
   "name": "python",
   "nbconvert_exporter": "python",
   "pygments_lexer": "ipython2",
   "version": "2.7.12"
  }
 },
 "nbformat": 4,
 "nbformat_minor": 1
}

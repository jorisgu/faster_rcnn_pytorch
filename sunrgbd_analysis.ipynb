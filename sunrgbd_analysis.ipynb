{
 "cells": [
  {
   "cell_type": "code",
   "execution_count": 18,
   "metadata": {
    "collapsed": false
   },
   "outputs": [
    {
     "name": "stdout",
     "output_type": "stream",
     "text": [
      "<bound method sunrgbd.default_roidb of <faster_rcnn.datasets.sunrgbd.sunrgbd object at 0x7ff43063e790>>\n"
     ]
    }
   ],
   "source": [
    "import os\n",
    "import numpy as np\n",
    "from datetime import datetime\n",
    "\n",
    "import faster_rcnn.roi_data_layer.roidb as rdl_roidb\n",
    "from faster_rcnn.datasets.factory import get_imdb\n",
    "from faster_rcnn.fast_rcnn.config import cfg, cfg_from_file\n",
    "\n",
    "def log_print(text, color=None, on_color=None, attrs=None):\n",
    "    if cprint is not None:\n",
    "        cprint(text, color=color, on_color=on_color, attrs=attrs)\n",
    "    else:\n",
    "        print(text)\n",
    "\n",
    "\n",
    "\n",
    "# hyper-parameters\n",
    "# ------------\n",
    "imdb_name = 'sunrgbd_test_rgb_i_100_8bits'train\n",
    "cfg_file = 'experiments/cfgs/faster_rcnn_end2end_sunrgbd.yml'\n",
    "pretrained_model = 'data/pretrained_model/VGG_imagenet.npy'\n",
    "output_dir = 'models/sunrgbd_rgb100/'\n",
    "\n",
    "\n",
    "\n",
    "\n",
    "# load config\n",
    "cfg_from_file(cfg_file)\n",
    "\n",
    "# load data\n",
    "imdb = get_imdb(imdb_name)"
   ]
  },
  {
   "cell_type": "code",
   "execution_count": 19,
   "metadata": {
    "collapsed": false
   },
   "outputs": [
    {
     "name": "stdout",
     "output_type": "stream",
     "text": [
      "wrote gt roidb to /c16/THESE.JORIS/datasets/SUNRGBD_pv/faster_rcnn/cache/sunrgbd_test_rgb_i_100_8bits_gt_roidb.pkl\n"
     ]
    }
   ],
   "source": [
    "gt_roidb=imdb.gt_roidb()"
   ]
  },
  {
   "cell_type": "code",
   "execution_count": 20,
   "metadata": {
    "collapsed": false
   },
   "outputs": [
    {
     "name": "stdout",
     "output_type": "stream",
     "text": [
      "shower_curtain 1\n",
      "blinds 66\n",
      "bathtub 80\n",
      "window 84\n",
      "towel 143\n",
      "bag 145\n",
      "books 181\n",
      "toilet 186\n",
      "fridge 293\n",
      "person 320\n",
      "mirror 337\n",
      "curtain 348\n",
      "picture 388\n",
      "tv 497\n",
      "whiteboard 652\n",
      "sink 695\n",
      "paper 757\n",
      "night_stand 817\n",
      "dresser 881\n",
      "bed 949\n",
      "counter 1468\n",
      "bookshelf 1499\n",
      "lamp 2590\n",
      "box 2648\n",
      "cabinet 2703\n",
      "sofa 2824\n",
      "door 4441\n",
      "table 10686\n",
      "pillow 11720\n",
      "desk 13342\n",
      "chair 126195\n"
     ]
    }
   ],
   "source": [
    "# print \"analysing...\"\n",
    "myClassesDict = {}\n",
    "for img_rois in gt_roidb:\n",
    "    for id_cls in img_rois['gt_classes']:\n",
    "        myClassesDict[imdb._classes[id_cls]] = myClassesDict.get(imdb._classes[id_cls], 0) + 1\n",
    "        \n",
    "a = sorted(myClassesDict, key=myClassesDict.get)\n",
    "for cls in a:\n",
    "    print cls, myClassesDict[cls]\n",
    "# print myClassesDict\n",
    "# print \"analysed !\""
   ]
  },
  {
   "cell_type": "code",
   "execution_count": null,
   "metadata": {
    "collapsed": true
   },
   "outputs": [],
   "source": []
  }
 ],
 "metadata": {
  "anaconda-cloud": {},
  "kernelspec": {
   "display_name": "Python [conda env:pyt3]",
   "language": "python",
   "name": "conda-env-pyt3-py"
  },
  "language_info": {
   "codemirror_mode": {
    "name": "ipython",
    "version": 2
   },
   "file_extension": ".py",
   "mimetype": "text/x-python",
   "name": "python",
   "nbconvert_exporter": "python",
   "pygments_lexer": "ipython2",
   "version": "2.7.12"
  }
 },
 "nbformat": 4,
 "nbformat_minor": 1
}

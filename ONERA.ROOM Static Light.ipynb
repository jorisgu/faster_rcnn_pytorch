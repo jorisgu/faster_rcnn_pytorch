{
 "cells": [
  {
   "cell_type": "code",
   "execution_count": 1,
   "metadata": {
    "collapsed": false
   },
   "outputs": [
    {
     "name": "stdout",
     "output_type": "stream",
     "text": [
      "Remove empty annotations:  Done. [ 15909 removed]\n",
      "oneraroom_all_rgb gt roidb loaded from /home/jguerry/workspace/datasets/ONERA.ROOM/faster_rcnn/cache/oneraroom_all_rgb_gt_roidb.pkl\n"
     ]
    }
   ],
   "source": [
    "import os\n",
    "import numpy as np\n",
    "from datetime import datetime\n",
    "\n",
    "import faster_rcnn.roi_data_layer.roidb as rdl_roidb\n",
    "from faster_rcnn.datasets.factory import get_imdb\n",
    "from faster_rcnn.fast_rcnn.config import cfg, cfg_from_file\n",
    "\n",
    "def log_print(text, color=None, on_color=None, attrs=None):\n",
    "    if cprint is not None:\n",
    "        cprint(text, color=color, on_color=on_color, attrs=attrs)\n",
    "    else:\n",
    "        print(text)\n",
    "\n",
    "\n",
    "\n",
    "# hyper-parameters\n",
    "# ------------\n",
    "imdb_name = 'oneraroom_static_rgb' #train\n",
    "# imdb_name = 'oneraroom_easy_rgb' #train\n",
    "cfg_file = 'experiments/cfgs/faster_rcnn_end2end_oneraroom.yml'\n",
    "\n",
    "\n",
    "# imdb_name = 'sunrgbd_13_test_rgb_i_100_8bits'\n",
    "# cfg_file = 'experiments/cfgs/faster_rcnn_end2end_sunrgbd_13.yml'\n",
    "\n",
    "\n",
    "# load config\n",
    "cfg_from_file(cfg_file)\n",
    "\n",
    "# load data\n",
    "imdb = get_imdb(imdb_name)\n",
    "\n",
    "gt_roidb=imdb.gt_roidb()"
   ]
  },
  {
   "cell_type": "code",
   "execution_count": 2,
   "metadata": {
    "collapsed": false
   },
   "outputs": [
    {
     "name": "stdout",
     "output_type": "stream",
     "text": [
      "person 12313\n"
     ]
    }
   ],
   "source": [
    "# print \"analysing...\"\n",
    "myClassesDict = {}\n",
    "for img_rois in gt_roidb:\n",
    "    for id_cls in img_rois['gt_classes']:\n",
    "        myClassesDict[imdb._classes[id_cls]] = myClassesDict.get(imdb._classes[id_cls], 0) + 1\n",
    "        \n",
    "a = sorted(myClassesDict, key=myClassesDict.get)\n",
    "for cls in a:\n",
    "    print cls, myClassesDict[cls]\n",
    "# print myClassesDict\n",
    "# print \"analysed !\""
   ]
  },
  {
   "cell_type": "code",
   "execution_count": null,
   "metadata": {
    "collapsed": true
   },
   "outputs": [],
   "source": []
  }
 ],
 "metadata": {
  "kernelspec": {
   "display_name": "Python [conda env:pyt3]",
   "language": "python",
   "name": "conda-env-pyt3-py"
  },
  "language_info": {
   "codemirror_mode": {
    "name": "ipython",
    "version": 2
   },
   "file_extension": ".py",
   "mimetype": "text/x-python",
   "name": "python",
   "nbconvert_exporter": "python",
   "pygments_lexer": "ipython2",
   "version": "2.7.12"
  }
 },
 "nbformat": 4,
 "nbformat_minor": 1
}
